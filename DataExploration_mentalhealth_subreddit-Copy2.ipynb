{
 "cells": [
  {
   "cell_type": "markdown",
   "id": "3666185a",
   "metadata": {},
   "source": [
    "## Exploratory Analysis of Reddit Posts in r/mentalhealth\n",
    "\n",
    "Steps:\n",
    "1. Data Cleaning/ Wrangling\n",
    "    a. Data is filtered for \"Need Support\" and \"Venting\". \n",
    "    b. Missing text data is filtered out\n",
    "    c. Dataset has 1040 total posts: 520 posts for each catagory. The dataset for the final analysis will be significantly larger\n",
    "2. Descriptive statistics on post length \n",
    "3. Top words in each catagory \n",
    "4. Tops words that are unique to each catagory\n",
    "5. Sentiment Analysis \n",
    "\n"
   ]
  },
  {
   "cell_type": "markdown",
   "id": "715abfac",
   "metadata": {},
   "source": [
    "### Data Cleaning"
   ]
  },
  {
   "cell_type": "code",
   "execution_count": 94,
   "id": "3e29eade",
   "metadata": {},
   "outputs": [],
   "source": [
    "import pandas as pd\n",
    "import statistics\n",
    "import numpy as np\n",
    "from sklearn import svm\n",
    "from sklearn.feature_extraction.text import CountVectorizer\n",
    "import regex as re\n",
    "from collections import defaultdict\n",
    "import matplotlib.pyplot as plt\n",
    "from NLP_MH import DataIngest\n",
    "import pickle"
   ]
  },
  {
   "cell_type": "code",
   "execution_count": 95,
   "id": "8e1d7f62",
   "metadata": {},
   "outputs": [],
   "source": [
    "df = pd.read_csv(\"NLP_MH/mh_clean.csv\")"
   ]
  },
  {
   "cell_type": "code",
   "execution_count": 96,
   "id": "37b50c07",
   "metadata": {},
   "outputs": [],
   "source": [
    "df.drop(columns=['Unnamed: 0'], inplace=True)"
   ]
  },
  {
   "cell_type": "code",
   "execution_count": 97,
   "id": "e9719eb8",
   "metadata": {},
   "outputs": [],
   "source": [
    "df.dropna(subset=['body'], inplace=True)"
   ]
  },
  {
   "cell_type": "code",
   "execution_count": 98,
   "id": "d9089a6e",
   "metadata": {},
   "outputs": [
    {
     "name": "stdout",
     "output_type": "stream",
     "text": [
      "pickle complete\n"
     ]
    }
   ],
   "source": [
    "DataIngest.writePickle(df, \"MH_DF_1\", \"ML_Data/\")"
   ]
  },
  {
   "cell_type": "code",
   "execution_count": 99,
   "id": "f8c7c3c1",
   "metadata": {},
   "outputs": [
    {
     "data": {
      "text/html": [
       "<div>\n",
       "<style scoped>\n",
       "    .dataframe tbody tr th:only-of-type {\n",
       "        vertical-align: middle;\n",
       "    }\n",
       "\n",
       "    .dataframe tbody tr th {\n",
       "        vertical-align: top;\n",
       "    }\n",
       "\n",
       "    .dataframe thead th {\n",
       "        text-align: right;\n",
       "    }\n",
       "</style>\n",
       "<table border=\"1\" class=\"dataframe\">\n",
       "  <thead>\n",
       "    <tr style=\"text-align: right;\">\n",
       "      <th></th>\n",
       "      <th>label</th>\n",
       "      <th>body</th>\n",
       "      <th>body_stem_sw</th>\n",
       "    </tr>\n",
       "  </thead>\n",
       "  <tbody>\n",
       "    <tr>\n",
       "      <th>0</th>\n",
       "      <td>Venting</td>\n",
       "      <td>last april after i found out my ex had lied to...</td>\n",
       "      <td>last april found ex lie upset thing complet br...</td>\n",
       "    </tr>\n",
       "    <tr>\n",
       "      <th>1</th>\n",
       "      <td>Venting</td>\n",
       "      <td>i have an issue that has affected my life for ...</td>\n",
       "      <td>issu affect life long time i'm 19 year old alw...</td>\n",
       "    </tr>\n",
       "    <tr>\n",
       "      <th>2</th>\n",
       "      <td>Venting</td>\n",
       "      <td>i wouldn t even know where to start i know mor...</td>\n",
       "      <td>even know start know wrong confirm time ago so...</td>\n",
       "    </tr>\n",
       "    <tr>\n",
       "      <th>3</th>\n",
       "      <td>Venting</td>\n",
       "      <td>well another concert even immediately after i ...</td>\n",
       "      <td>well anoth concert even immedi snap back bpd m...</td>\n",
       "    </tr>\n",
       "    <tr>\n",
       "      <th>4</th>\n",
       "      <td>Venting</td>\n",
       "      <td>i just need to get this off my chest i feel li...</td>\n",
       "      <td>need get chest feel like peopl tell lest scare...</td>\n",
       "    </tr>\n",
       "    <tr>\n",
       "      <th>...</th>\n",
       "      <td>...</td>\n",
       "      <td>...</td>\n",
       "      <td>...</td>\n",
       "    </tr>\n",
       "    <tr>\n",
       "      <th>48880</th>\n",
       "      <td>Need Support</td>\n",
       "      <td>m22 i work full time and i'm trying to fill ou...</td>\n",
       "      <td>m22 work full time i'm tri fill applic grad sc...</td>\n",
       "    </tr>\n",
       "    <tr>\n",
       "      <th>48881</th>\n",
       "      <td>Venting</td>\n",
       "      <td>i already made a few posts here but its gettin...</td>\n",
       "      <td>alreadi made post get wors wors everyday feel ...</td>\n",
       "    </tr>\n",
       "    <tr>\n",
       "      <th>48882</th>\n",
       "      <td>Need Support</td>\n",
       "      <td>hi all ta account i am forced to live with som...</td>\n",
       "      <td>hi ta account forc live someon narcissist beha...</td>\n",
       "    </tr>\n",
       "    <tr>\n",
       "      <th>48883</th>\n",
       "      <td>Venting</td>\n",
       "      <td>yesterday i needed to take the train somewhere...</td>\n",
       "      <td>yesterday need take train somewher stood stati...</td>\n",
       "    </tr>\n",
       "    <tr>\n",
       "      <th>48884</th>\n",
       "      <td>Need Support</td>\n",
       "      <td>my mental health has been going bad this year ...</td>\n",
       "      <td>mental health go bad year realli know underli ...</td>\n",
       "    </tr>\n",
       "  </tbody>\n",
       "</table>\n",
       "<p>48830 rows × 3 columns</p>\n",
       "</div>"
      ],
      "text/plain": [
       "              label                                               body  \\\n",
       "0           Venting  last april after i found out my ex had lied to...   \n",
       "1           Venting  i have an issue that has affected my life for ...   \n",
       "2           Venting  i wouldn t even know where to start i know mor...   \n",
       "3           Venting  well another concert even immediately after i ...   \n",
       "4           Venting  i just need to get this off my chest i feel li...   \n",
       "...             ...                                                ...   \n",
       "48880  Need Support  m22 i work full time and i'm trying to fill ou...   \n",
       "48881       Venting  i already made a few posts here but its gettin...   \n",
       "48882  Need Support  hi all ta account i am forced to live with som...   \n",
       "48883       Venting  yesterday i needed to take the train somewhere...   \n",
       "48884  Need Support  my mental health has been going bad this year ...   \n",
       "\n",
       "                                            body_stem_sw  \n",
       "0      last april found ex lie upset thing complet br...  \n",
       "1      issu affect life long time i'm 19 year old alw...  \n",
       "2      even know start know wrong confirm time ago so...  \n",
       "3      well anoth concert even immedi snap back bpd m...  \n",
       "4      need get chest feel like peopl tell lest scare...  \n",
       "...                                                  ...  \n",
       "48880  m22 work full time i'm tri fill applic grad sc...  \n",
       "48881  alreadi made post get wors wors everyday feel ...  \n",
       "48882  hi ta account forc live someon narcissist beha...  \n",
       "48883  yesterday need take train somewher stood stati...  \n",
       "48884  mental health go bad year realli know underli ...  \n",
       "\n",
       "[48830 rows x 3 columns]"
      ]
     },
     "execution_count": 99,
     "metadata": {},
     "output_type": "execute_result"
    }
   ],
   "source": [
    "df"
   ]
  },
  {
   "cell_type": "code",
   "execution_count": 100,
   "id": "6165f08a",
   "metadata": {},
   "outputs": [],
   "source": [
    "def clean_txt(str_in):\n",
    "    import re\n",
    "    test_str_fix_o = None\n",
    "    try:\n",
    "        if str_in.startswith('\"') and str_in.endswith('\"'):\n",
    "            str_in = str_in[1:-1]\n",
    "        test_str_fix_o = re.sub(\"[^A-Za-z0-9']+\", \" \", str_in).strip()\n",
    "        test_str_fix_o = test_str_fix_o.lower()\n",
    "        #return test_str_fix_o\n",
    "    except:\n",
    "        print (\"You can only input a string and not a\", type(str_in))\n",
    "        pass\n",
    "    return test_str_fix_o"
   ]
  },
  {
   "cell_type": "code",
   "execution_count": 168,
   "id": "f2113036",
   "metadata": {},
   "outputs": [],
   "source": [
    "def rem_sw(str_in):\n",
    "    from nltk.corpus import stopwords\n",
    "    sw = stopwords.words('english')\n",
    "    sw.append(\"like\")\n",
    "    #create a function called rem_sw that inputs arbitrary text, \n",
    "    #removes stopwords\n",
    "    #and returns string contenated tokene that are left\n",
    "    tmp_list = list()\n",
    "    for w in str_in.split():\n",
    "        if w not in sw:\n",
    "            tmp_list.append(w)\n",
    "    fin_txt = ' '.join(tmp_list)\n",
    "    return fin_txt"
   ]
  },
  {
   "cell_type": "code",
   "execution_count": 102,
   "id": "29d9fdc8",
   "metadata": {},
   "outputs": [],
   "source": [
    "def stem_fun(str_in):\n",
    "    from nltk.stem.porter import PorterStemmer\n",
    "    ps = PorterStemmer()\n",
    "    tmp = [ps.stem(word) for word in str_in.split()]\n",
    "    tmp = ' '.join(tmp)\n",
    "    return tmp"
   ]
  },
  {
   "cell_type": "code",
   "execution_count": 103,
   "id": "287ae8d1",
   "metadata": {},
   "outputs": [],
   "source": [
    "def tokenize_text(str_in):\n",
    "    return str_in.split()"
   ]
  },
  {
   "cell_type": "code",
   "execution_count": 104,
   "id": "2c595f16",
   "metadata": {},
   "outputs": [],
   "source": [
    "def clean_df(df_new):\n",
    "    df_new = df_new.reset_index(drop=True)\n",
    "    for i in range(len(df_new)):\n",
    "        label = df_new.loc[i, \"label\"]\n",
    "        if label.startswith('\"') and label.endswith('\"'):\n",
    "            df_new.loc[i, \"label\"] = label[1:-1]\n",
    "        text = df_new.loc[i, \"body\"]\n",
    "        text = clean_txt(text)\n",
    "        text = rem_sw(text)\n",
    "        df_new.loc[i, \"body\"] = text\n",
    "    return df_new"
   ]
  },
  {
   "cell_type": "code",
   "execution_count": 105,
   "id": "a2f41aca",
   "metadata": {},
   "outputs": [],
   "source": [
    "vent_df = df[df[\"label\"] == \"Venting\"]\n",
    "ns_df = df[df[\"label\"] == \"Need Support\"]"
   ]
  },
  {
   "cell_type": "code",
   "execution_count": 106,
   "id": "33f32edc",
   "metadata": {},
   "outputs": [],
   "source": [
    "def word_vec(documents):\n",
    "    # Create a CountVectorizer instance\n",
    "    vectorizer = CountVectorizer()\n",
    "    word_count_vectors = vectorizer.fit_transform(documents)\n",
    "    # Convert the word count vectors to an array\n",
    "    word_count_array = word_count_vectors.toarray()\n",
    "\n",
    "    # Get the feature names (words) from the vectorizer\n",
    "    feature_names = vectorizer.get_feature_names_out()\n",
    "\n",
    "    # Create a dictionary to store feature names and their counts\n",
    "    features_counts = {}\n",
    "\n",
    "    # Iterate through each feature and its index, then get the sum of counts across all documents\n",
    "    for i, feature_name in enumerate(feature_names):\n",
    "        feature_count = np.sum(word_count_array[:, i])  # Sum counts across all documents for the current feature\n",
    "        features_counts[feature_name] = feature_count\n",
    "\n",
    "    # Print the dictionary of feature names and their counts\n",
    "    return(features_counts)"
   ]
  },
  {
   "cell_type": "code",
   "execution_count": 107,
   "id": "1e93b0c4",
   "metadata": {},
   "outputs": [],
   "source": [
    "def word_freq_vec(documents):\n",
    "    # Create a CountVectorizer instance\n",
    "    vectorizer = CountVectorizer()\n",
    "    word_count_vectors = vectorizer.fit_transform(documents)\n",
    "    # Convert the word count vectors to an array\n",
    "    word_count_array = word_count_vectors.toarray()\n",
    "\n",
    "    # Get the feature names (words) from the vectorizer\n",
    "    feature_names = vectorizer.get_feature_names_out()\n",
    "\n",
    "    # Create a dictionary to store feature names and their counts\n",
    "    features_counts = {}\n",
    "\n",
    "    # Iterate through each feature and its index, then get the sum of counts across all documents\n",
    "    for i, feature_name in enumerate(feature_names):\n",
    "        feature_count = np.sum(word_count_array[:, i])  # Sum counts across all documents for the current feature\n",
    "        features_counts[feature_name] = feature_count\n",
    "\n",
    "    # Print the dictionary of feature names and their counts\n",
    "    return(features_counts)"
   ]
  },
  {
   "cell_type": "code",
   "execution_count": 108,
   "id": "ba861d0e",
   "metadata": {},
   "outputs": [
    {
     "data": {
      "text/plain": [
       "0        last april after i found out my ex had lied to...\n",
       "1        i have an issue that has affected my life for ...\n",
       "2        i wouldn t even know where to start i know mor...\n",
       "3        well another concert even immediately after i ...\n",
       "4        i just need to get this off my chest i feel li...\n",
       "                               ...                        \n",
       "48877    so i 20f feel a lot of pain mentally and prett...\n",
       "48878    sorry if it's the wrong place to post this soc...\n",
       "48879    2022 was filled with many downs i've gone thro...\n",
       "48881    i already made a few posts here but its gettin...\n",
       "48883    yesterday i needed to take the train somewhere...\n",
       "Name: body, Length: 22779, dtype: object"
      ]
     },
     "execution_count": 108,
     "metadata": {},
     "output_type": "execute_result"
    }
   ],
   "source": [
    "vent_df[\"body\"]"
   ]
  },
  {
   "cell_type": "code",
   "execution_count": 169,
   "id": "6cbccb56",
   "metadata": {},
   "outputs": [
    {
     "name": "stderr",
     "output_type": "stream",
     "text": [
      "/var/folders/fr/g38hffys3lbdjhb5h18vy6nh0000gn/T/ipykernel_97796/2924245178.py:1: SettingWithCopyWarning: \n",
      "A value is trying to be set on a copy of a slice from a DataFrame.\n",
      "Try using .loc[row_indexer,col_indexer] = value instead\n",
      "\n",
      "See the caveats in the documentation: https://pandas.pydata.org/pandas-docs/stable/user_guide/indexing.html#returning-a-view-versus-a-copy\n",
      "  vent_df[\"body_sw\"] = vent_df[\"body\"].apply(lambda x: rem_sw(x))\n"
     ]
    }
   ],
   "source": [
    "vent_df[\"body_sw\"] = vent_df[\"body\"].apply(lambda x: rem_sw(x))"
   ]
  },
  {
   "cell_type": "code",
   "execution_count": 110,
   "id": "d1450ba9",
   "metadata": {},
   "outputs": [
    {
     "data": {
      "text/plain": [
       "22779"
      ]
     },
     "execution_count": 110,
     "metadata": {},
     "output_type": "execute_result"
    }
   ],
   "source": [
    "len(vent_df)"
   ]
  },
  {
   "cell_type": "code",
   "execution_count": 111,
   "id": "26f8f31b",
   "metadata": {},
   "outputs": [
    {
     "data": {
      "text/plain": [
       "26051"
      ]
     },
     "execution_count": 111,
     "metadata": {},
     "output_type": "execute_result"
    }
   ],
   "source": [
    "len(ns_df)"
   ]
  },
  {
   "cell_type": "code",
   "execution_count": 121,
   "id": "e5566cbc",
   "metadata": {},
   "outputs": [],
   "source": [
    "vent_dict_body = word_vec(vent_df[\"body\"])"
   ]
  },
  {
   "cell_type": "code",
   "execution_count": 122,
   "id": "a72b2987",
   "metadata": {},
   "outputs": [],
   "source": [
    "ns_dict_body = word_vec(ns_df[\"body\"])"
   ]
  },
  {
   "cell_type": "code",
   "execution_count": 112,
   "id": "0e02345d",
   "metadata": {},
   "outputs": [],
   "source": [
    "vent_dict = word_vec(vent_df[\"body_sw\"])"
   ]
  },
  {
   "cell_type": "code",
   "execution_count": 170,
   "id": "0dba7303",
   "metadata": {},
   "outputs": [
    {
     "name": "stderr",
     "output_type": "stream",
     "text": [
      "/var/folders/fr/g38hffys3lbdjhb5h18vy6nh0000gn/T/ipykernel_97796/60173868.py:1: SettingWithCopyWarning: \n",
      "A value is trying to be set on a copy of a slice from a DataFrame.\n",
      "Try using .loc[row_indexer,col_indexer] = value instead\n",
      "\n",
      "See the caveats in the documentation: https://pandas.pydata.org/pandas-docs/stable/user_guide/indexing.html#returning-a-view-versus-a-copy\n",
      "  ns_df[\"body_sw\"] = ns_df[\"body\"].apply(lambda x: rem_sw(x))\n"
     ]
    }
   ],
   "source": [
    "ns_df[\"body_sw\"] = ns_df[\"body\"].apply(lambda x: rem_sw(x))"
   ]
  },
  {
   "cell_type": "code",
   "execution_count": 114,
   "id": "c6185f32",
   "metadata": {},
   "outputs": [],
   "source": [
    "ns_dict = word_vec(ns_df[\"body_sw\"])"
   ]
  },
  {
   "cell_type": "code",
   "execution_count": 115,
   "id": "65d439f1",
   "metadata": {},
   "outputs": [],
   "source": [
    "ns_dict_max = {}\n",
    "for key, value in ns_dict.items():\n",
    "    if value > 2000:\n",
    "        ns_dict_max[key] = value"
   ]
  },
  {
   "cell_type": "code",
   "execution_count": 116,
   "id": "b5866cf2",
   "metadata": {},
   "outputs": [
    {
     "data": {
      "text/plain": [
       "<function dict.items>"
      ]
     },
     "execution_count": 116,
     "metadata": {},
     "output_type": "execute_result"
    }
   ],
   "source": [
    "ns_dict_max.items"
   ]
  },
  {
   "cell_type": "markdown",
   "id": "a71c6c22",
   "metadata": {},
   "source": [
    "### Top Venting Words"
   ]
  },
  {
   "cell_type": "code",
   "execution_count": 117,
   "id": "257fc545",
   "metadata": {},
   "outputs": [
    {
     "name": "stdout",
     "output_type": "stream",
     "text": [
      "{'like': 46453, 'feel': 37136, 'know': 26856, 'get': 23871, 'want': 23677, 'even': 22028, 'time': 19646, 'people': 19093, 'really': 18300, 'life': 17268, 'one': 15405, 'would': 14585, 'things': 13591, 'think': 13294, 'never': 12564}\n"
     ]
    }
   ],
   "source": [
    "from operator import itemgetter\n",
    "del vent_dict['ve']\n",
    "vent_top = dict(sorted(vent_dict.items(), key=itemgetter(1), reverse=True)[:15])\n",
    "print(vent_top)"
   ]
  },
  {
   "cell_type": "markdown",
   "id": "41892d6b",
   "metadata": {},
   "source": [
    "### Top Need Support Words"
   ]
  },
  {
   "cell_type": "code",
   "execution_count": 118,
   "id": "0cb22abe",
   "metadata": {
    "scrolled": true
   },
   "outputs": [
    {
     "name": "stdout",
     "output_type": "stream",
     "text": [
      "{'like': 46791, 'feel': 38476, 'know': 31108, 'get': 25328, 'want': 24353, 'really': 22100, 'even': 21472, 'time': 20919, 'life': 17579, 'help': 17143, 'would': 16404, 'people': 15595, 'things': 15339, 'one': 14719, 'think': 14113}\n"
     ]
    }
   ],
   "source": [
    "del ns_dict['ve']\n",
    "ns_top = dict(sorted(ns_dict.items(), key=itemgetter(1), reverse=True)[:15])\n",
    "print(ns_top)"
   ]
  },
  {
   "cell_type": "code",
   "execution_count": 28,
   "id": "c39f8db2",
   "metadata": {},
   "outputs": [
    {
     "data": {
      "text/plain": [
       "{'even',\n",
       " 'feel',\n",
       " 'get',\n",
       " 'know',\n",
       " 'life',\n",
       " 'like',\n",
       " 'one',\n",
       " 'people',\n",
       " 'really',\n",
       " 'things',\n",
       " 'think',\n",
       " 'time',\n",
       " 'want',\n",
       " 'would'}"
      ]
     },
     "execution_count": 28,
     "metadata": {},
     "output_type": "execute_result"
    }
   ],
   "source": [
    "set(ns_top.keys()).intersection(set(vent_top.keys())) "
   ]
  },
  {
   "cell_type": "code",
   "execution_count": 29,
   "id": "433b986b",
   "metadata": {},
   "outputs": [
    {
     "data": {
      "image/png": "[encoded data removed]",
      "text/plain": [
       "<Figure size 3600x2160 with 1 Axes>"
      ]
     },
     "metadata": {
      "needs_background": "light"
     },
     "output_type": "display_data"
    }
   ],
   "source": [
    "# Extract keys and values from the dictionary\n",
    "keys = list(vent_top.keys())\n",
    "values = list(vent_top.values())\n",
    "\n",
    "# Plot the bar graph\n",
    "plt.figure(figsize=(50, 30))\n",
    "plt.bar(keys, values)\n",
    "plt.xticks(fontsize=20)  # Adjust the font size of the x-axis tick labels\n",
    "plt.yticks(fontsize=20)\n",
    "# Add labels and title\n",
    "plt.xlabel('Features', fontsize = 30)\n",
    "plt.ylabel('Frequency')\n",
    "plt.title('Top 15 Venting Words Across All Posts', fontsize=50)\n",
    "\n",
    "# Show the plot\n",
    "plt.show()\n",
    "\n",
    "keys_vent = keys\n",
    "count_vent = values"
   ]
  },
  {
   "cell_type": "code",
   "execution_count": 30,
   "id": "0ae11a69",
   "metadata": {},
   "outputs": [
    {
     "data": {
      "image/png": "[encoded data removed]",
      "text/plain": [
       "<Figure size 432x288 with 1 Axes>"
      ]
     },
     "metadata": {
      "needs_background": "light"
     },
     "output_type": "display_data"
    }
   ],
   "source": [
    "plt.barh(keys_vent, count_vent, color='orange')\n",
    "plt.xlabel('Count')\n",
    "plt.ylabel('Word')\n",
    "plt.title('Top 15 Vent Words')\n",
    "plt.show()"
   ]
  },
  {
   "cell_type": "code",
   "execution_count": 31,
   "id": "f0a45481",
   "metadata": {},
   "outputs": [
    {
     "data": {
      "image/png": "[encoded data removed]",
      "text/plain": [
       "<Figure size 3600x1440 with 1 Axes>"
      ]
     },
     "metadata": {
      "needs_background": "light"
     },
     "output_type": "display_data"
    }
   ],
   "source": [
    "# Extract keys and values from the dictionary\n",
    "keys= list(ns_top.keys())\n",
    "values = list(ns_top.values())\n",
    "bar_width = 0.5\n",
    "# Plot the bar graph\n",
    "plt.figure(figsize=(50, 20))\n",
    "plt.xticks(fontsize=20)  # Adjust the font size of the x-axis tick labels\n",
    "plt.yticks(fontsize=20)\n",
    "plt.bar(keys, values)\n",
    "\n",
    "# Add labels and title\n",
    "plt.xlabel('Features', fontsize = 30)\n",
    "plt.ylabel('Frequencies', fontsize = 30)\n",
    "plt.title('Top 15 Need Support Words Across All Posts', fontsize = 50)\n",
    "\n",
    "# Show the plot\n",
    "plt.show()\n",
    "keys_ns = keys\n",
    "count_ns = values"
   ]
  },
  {
   "cell_type": "code",
   "execution_count": 32,
   "id": "a1f00310",
   "metadata": {},
   "outputs": [
    {
     "data": {
      "image/png": "[encoded data removed]",
      "text/plain": [
       "<Figure size 432x288 with 1 Axes>"
      ]
     },
     "metadata": {
      "needs_background": "light"
     },
     "output_type": "display_data"
    }
   ],
   "source": [
    "plt.barh(keys_ns, count_ns, color='blue')\n",
    "plt.xlabel('Count')\n",
    "plt.ylabel('Word')\n",
    "plt.title('Top 15 Need Support Words')\n",
    "plt.show()"
   ]
  },
  {
   "cell_type": "code",
   "execution_count": 33,
   "id": "c8df095a",
   "metadata": {},
   "outputs": [
    {
     "data": {
      "image/png": "[encoded data removed]",
      "text/plain": [
       "<Figure size 432x288 with 1 Axes>"
      ]
     },
     "metadata": {
      "needs_background": "light"
     },
     "output_type": "display_data"
    }
   ],
   "source": [
    "keys_ns= list(ns_top.keys())\n",
    "values_ns = list(ns_top.values())\n",
    "\n",
    "keys_vent= list(vent_top.keys())\n",
    "values_vent = list(vent_top.values())\n",
    "\n",
    "\n",
    "all_words = set(keys_ns).union(set(keys_vent))\n",
    "bar_width = 0.35\n",
    "bar_positions_ns = np.arange(len(keys_ns))\n",
    "bar_positions_vent = bar_positions_ns + bar_width\n",
    "bar_positions_total = np.arange(len(all_words))\n",
    "\n",
    "\n",
    "plt.barh(bar_positions_ns, values_ns, height=bar_width, color='blue', label='NS Words')\n",
    "plt.barh(bar_positions_vent, values_vent, height=bar_width, color='orange', label='Vent Words')\n",
    "plt.yticks(bar_positions_total + bar_width / 2, all_words)\n",
    "plt.xlabel('Count')\n",
    "plt.ylabel('Words')\n",
    "plt.title('Top Unique Venting Words And Corresponding Need Support Count')\n",
    "plt.legend()\n",
    "plt.show()"
   ]
  },
  {
   "cell_type": "code",
   "execution_count": 34,
   "id": "f7f3c6d7",
   "metadata": {},
   "outputs": [
    {
     "data": {
      "image/png": "[encoded data removed]",
      "text/plain": [
       "<Figure size 432x288 with 1 Axes>"
      ]
     },
     "metadata": {
      "needs_background": "light"
     },
     "output_type": "display_data"
    }
   ],
   "source": [
    "keys_ns= list(ns_top.keys())\n",
    "values_ns = list(ns_top.values())\n",
    "\n",
    "keys_vent= list(vent_top.keys())\n",
    "values_vent = list(vent_top.values())\n",
    "\n",
    "\n",
    "all_words = set(keys_ns).union(set(keys_vent))\n",
    "bar_width = 0.35\n",
    "bar_positions_ns = np.arange(len(keys_ns))\n",
    "bar_positions_vent = bar_positions_ns + bar_width\n",
    "bar_positions_total = np.arange(len(all_words))\n",
    "\n",
    "\n",
    "plt.barh(bar_positions_ns, values_ns, height=bar_width, color='blue', label='NS Words')\n",
    "plt.barh(bar_positions_vent, values_vent, height=bar_width, color='orange', label='Vent Words')\n",
    "plt.yticks(bar_positions_total + bar_width / 2, all_words)\n",
    "plt.xlabel('Count')\n",
    "plt.ylabel('Words')\n",
    "plt.title('Top Words Used Across Support Preferences')\n",
    "plt.legend()\n",
    "plt.show()"
   ]
  },
  {
   "cell_type": "markdown",
   "id": "5f68545d",
   "metadata": {},
   "source": [
    "### Top 15 unique to NS"
   ]
  },
  {
   "cell_type": "code",
   "execution_count": 35,
   "id": "52cfb67c",
   "metadata": {},
   "outputs": [
    {
     "data": {
      "text/plain": [
       "{'help'}"
      ]
     },
     "execution_count": 35,
     "metadata": {},
     "output_type": "execute_result"
    }
   ],
   "source": [
    "set(ns_top.keys()).difference(set(vent_top.keys())) "
   ]
  },
  {
   "cell_type": "markdown",
   "id": "730bf63c",
   "metadata": {},
   "source": [
    "### Top 15 unique to Vent"
   ]
  },
  {
   "cell_type": "code",
   "execution_count": 36,
   "id": "59bea524",
   "metadata": {},
   "outputs": [
    {
     "data": {
      "text/plain": [
       "{'never'}"
      ]
     },
     "execution_count": 36,
     "metadata": {},
     "output_type": "execute_result"
    }
   ],
   "source": [
    "set(vent_top.keys()).difference(set(ns_top.keys())) "
   ]
  },
  {
   "cell_type": "code",
   "execution_count": 37,
   "id": "ab7f21fb",
   "metadata": {},
   "outputs": [],
   "source": [
    "ns_top_150 = dict(sorted(ns_dict.items(), key=itemgetter(1), reverse=True)[:150])\n",
    "vent_top_150 = dict(sorted(vent_dict.items(), key=itemgetter(1), reverse=True)[:150])"
   ]
  },
  {
   "cell_type": "markdown",
   "id": "f67fabee",
   "metadata": {},
   "source": [
    "### Intersection of top 150 in both categories"
   ]
  },
  {
   "cell_type": "code",
   "execution_count": 38,
   "id": "c816f3f5",
   "metadata": {},
   "outputs": [
    {
     "data": {
      "text/plain": [
       "141"
      ]
     },
     "execution_count": 38,
     "metadata": {},
     "output_type": "execute_result"
    }
   ],
   "source": [
    "len(set(vent_top_150.keys()).intersection(set(ns_top_150.keys())))"
   ]
  },
  {
   "cell_type": "markdown",
   "id": "fa2250d8",
   "metadata": {},
   "source": [
    "### words unique to Vent"
   ]
  },
  {
   "cell_type": "code",
   "execution_count": 39,
   "id": "59176523",
   "metadata": {},
   "outputs": [
    {
     "name": "stdout",
     "output_type": "stream",
     "text": [
      "{'wish', 'fucking', 'another', 'put', 'let', 'look', 'tired', 'reason', 'shit'}\n"
     ]
    }
   ],
   "source": [
    "unique_vent_top = set(vent_top_150.keys()).difference(set(ns_top_150.keys()))\n",
    "print(unique_vent_top)"
   ]
  },
  {
   "cell_type": "code",
   "execution_count": 40,
   "id": "d887e654",
   "metadata": {},
   "outputs": [
    {
     "name": "stdout",
     "output_type": "stream",
     "text": [
      "wish\n",
      "fucking\n",
      "another\n",
      "put\n",
      "let\n",
      "look\n",
      "tired\n",
      "reason\n",
      "shit\n"
     ]
    }
   ],
   "source": [
    "unique_vent_count = {}\n",
    "ns_counter = {}\n",
    "for val in unique_vent_top:\n",
    "    print(val)\n",
    "    unique_vent_count[val] = vent_top_150[val]\n",
    "    if ns_dict[val]:\n",
    "        ns_counter[val] = ns_dict[val]\n",
    "    else:\n",
    "        ns_counter[val] = 0"
   ]
  },
  {
   "cell_type": "code",
   "execution_count": 41,
   "id": "90406262",
   "metadata": {},
   "outputs": [],
   "source": [
    "unique_vent_count = dict(sorted(unique_vent_count.items(), key=itemgetter(1), reverse=True))"
   ]
  },
  {
   "cell_type": "code",
   "execution_count": 42,
   "id": "eb44bc7d",
   "metadata": {},
   "outputs": [
    {
     "data": {
      "text/plain": [
       "{'wish': 1984,\n",
       " 'fucking': 2729,\n",
       " 'another': 3431,\n",
       " 'put': 3217,\n",
       " 'let': 3445,\n",
       " 'look': 3043,\n",
       " 'tired': 3147,\n",
       " 'reason': 3312,\n",
       " 'shit': 3335}"
      ]
     },
     "execution_count": 42,
     "metadata": {},
     "output_type": "execute_result"
    }
   ],
   "source": [
    "ns_counter"
   ]
  },
  {
   "cell_type": "code",
   "execution_count": 43,
   "id": "dfa0c742",
   "metadata": {},
   "outputs": [
    {
     "data": {
      "image/png": "[encoded data removed]",
      "text/plain": [
       "<Figure size 1800x432 with 1 Axes>"
      ]
     },
     "metadata": {
      "needs_background": "light"
     },
     "output_type": "display_data"
    }
   ],
   "source": [
    "x_ns = ns_counter.keys()\n",
    "y_ns = ns_counter.values()\n",
    "\n",
    "x_vent = unique_vent_count.keys()\n",
    "y_vent = unique_vent_count.values() \n",
    "x = range(len(x_vent))\n",
    "bar_width = 0.35\n",
    "# Plot the grouped bars\n",
    "plt.figure(figsize=(25, 6))\n",
    "plt.bar(x, y_vent, width=bar_width, label='Top Unique Venting Words', color = \"orange\")\n",
    "plt.bar([i + bar_width for i in x], y_ns, width=bar_width, label='Corresponding Need Support Words', color = \"blue\")\n",
    "\n",
    "# Add labels and title\n",
    "plt.ylabel('Features')\n",
    "plt.xlabel('Frequency')\n",
    "plt.title('Top Unique Venting Word Frequencies and Their Corresponding Need Support Frequencies')\n",
    "plt.xticks([i + bar_width/2 for i in x], x_ns)  # Center x ticks between the bars\n",
    "plt.legend()\n",
    "# Show the plot\n",
    "plt.show()"
   ]
  },
  {
   "cell_type": "code",
   "execution_count": 44,
   "id": "f7061b4d",
   "metadata": {},
   "outputs": [
    {
     "data": {
      "image/png": "[encoded data removed]",
      "text/plain": [
       "<Figure size 432x288 with 1 Axes>"
      ]
     },
     "metadata": {
      "needs_background": "light"
     },
     "output_type": "display_data"
    }
   ],
   "source": [
    "word_ns_1 = list(x_ns)\n",
    "count_ns_1 = list(y_ns)\n",
    "word_vent_1 = list(x_vent)\n",
    "count_vent_1 = list(y_vent)\n",
    "\n",
    "bar_width = 0.35\n",
    "bar_positions_ns = np.arange(len(word_ns_1))\n",
    "bar_positions_vent = bar_positions_ns + bar_width\n",
    "\n",
    "\n",
    "plt.barh(bar_positions_ns, count_ns_1, height=bar_width, color='blue', label='NS Words')\n",
    "plt.barh(bar_positions_vent, count_vent_1, height=bar_width, color='orange', label='Vent Words')\n",
    "plt.yticks(bar_positions_ns + bar_width / 2, word_ns_1)\n",
    "plt.xlabel('Count')\n",
    "plt.ylabel('Words')\n",
    "plt.title('Top Unique Venting Words And Corresponding Need Support Count')\n",
    "plt.legend()\n",
    "plt.show()"
   ]
  },
  {
   "cell_type": "code",
   "execution_count": 45,
   "id": "8bb84c18",
   "metadata": {},
   "outputs": [
    {
     "name": "stdout",
     "output_type": "stream",
     "text": [
      "Proportion of fucking in Vent 0.7480314960629921\n",
      "Proportion of shit in Vent 0.6543819655521783\n",
      "Proportion of tired in Vent 0.5703731530177811\n",
      "Proportion of look in Vent 0.5253762171732075\n",
      "Proportion of let in Vent 0.5041738629821532\n",
      "Proportion of wish in Vent 0.528436386176972\n",
      "Proportion of put in Vent 0.5188073394495413\n",
      "Proportion of reason in Vent 0.5026280222255594\n",
      "Proportion of another in Vent 0.49811888638073737\n"
     ]
    }
   ],
   "source": [
    "i = 0\n",
    "for word in word_vent_1:\n",
    "    print(\"Proportion of \" + word + \" in Vent \" + str((count_vent_1[i])/(count_vent_1[i] + count_ns_1[i])))\n",
    "    i+=1"
   ]
  },
  {
   "cell_type": "code",
   "execution_count": 46,
   "id": "33670a22",
   "metadata": {},
   "outputs": [
    {
     "name": "stdout",
     "output_type": "stream",
     "text": [
      "LOOK: last april after i found out my ex had lied to me and some other upsetting things i had a complete breakdown the breakdown ended after i took a brand new razor blade across my wrist i had so much adrenaline i didn t feel it at all but the giant wound and blood projecting from myself shocked me i stared at it for a second i think i tried to hold it closed and my ex said something about to not touch it he pulled me into his bathroom and wrapped a towel around my arm and tied it i m still shocked i think i m crying and looking at him and telling him i m going to die i keep apologizing he says that i m not going to die he says it s not like i didn t know something like this could happen we didn t know what to do so he asks if he could call his mom and i said ok mom she slit her wrist and she s bleeding a lot what should we do she asks a few questions he ends up taking me to the er on campus i m asked all the questions about what happened my mental health so on we re in the er from around noon to 10 pm he stays with me the whole time he apologizes i apologize i changed into a hospital gown but my foot is still covered in blood and i m wearing his sandals i get seven stitches on my wrist after six hours of waiting by a student he takes pictures of my open wound he takes a video as they stitch he takes a picture after the stitches are done they want me to stay overnight for something i have multiple people trying to convince me i decline we go back to his house i realize in the car on the way home my shirt is covered in blood there s blood soaked into my black leggings we get pizza at some point because bad hospital food didn t work for either of us he tries to sew up a pair of underwear i had cut up while i sit on the floor with a cloth and paper towels and peroxide trying to get my blood out of the carpet that s been soaking for 11 hours i got a speck of blood on the corner of his new white pillow i tried so hard to get it out i scrubbed the blood out of my clothes and carpet and the cloth he wrapped around my arm we get sexual at some point he takes me to kroger to buy extra bandages at some point two weeks later i go back to the er and get my stitches removed and walk back to his house after he s having a little get together i get a green v neck shirt out of my bag and tell him to put it on he does he walks in the other room and his friend comments on how he looks like shaggy it s a nice moment my wrist is still red and gross and shining from the ointment the nurse at the hospital put on it we all get high and watch anime he holds my hand and all i can see is the wound all i can ever see is the wound the student did a bad job my skin is uneven and risen now things don t get better he leaves a few months later i couldn t leave because i loved him despite him breaking me down to suicide but he leaves and i see this long red scar on my wrist every day i get taken back to his apartment in april every day i remember the blood so vividly i remember all of the feelings i still have the pictures he took i feel disgusting i always feel disgusting this scar will be on me as long as i live i have a billion little white scars all over me but this one is the worst it s so ugly if i don t wear long sleeves everyone s first look at me is that i m a fucking psycho i ve stared at my scar in loneliness for six months if i outstretch my arm i feel the pressure on my scar i feel it inside it always feels bad\n",
      "TIRED: i wouldn t even know where to start i know more is wrong with me than what was confirmed some time ago sometimes i daydream about being normal maybe therapy could help me maybe it couldn t i couldn t even be honest to them about what is really happening the potential consequences are shit a counselor on the suicide hotline chat told me to lie i don t want to spend time lying to another counselor but at the same time i question if i would ever be able to be honest i keep getting worse or maybe i m just on the same constant low but i m always stuck halfway between doing something and dying things aren t going to get better they are consistently getting worse but i guess it doesn t matter after all but why the fuck do i have to be stuck here i m so fucking tired\n",
      "LOOK: well another concert even immediately after i snapped back to bpd mode the day overall wasn t that great i was happy to be there but none of the videos i took recorded with sound immediately flew me into a of fucking course i try to have one fucking good thing happen and of course it s fucked up because everything in my life is always fucked up and everything goes wrong mood i just feel like fucking garbage i m fucking upset about that because my shit memory already hardly remembers the concert and now i don t have much to look back on it and now i m back to wanting to kill myself over everyone in my life abandoning me as if the thought even left i just wasn t going to kill myself right before i had a plan to do something nice but now it s over and it s back to what s the fucking point i m on borrowed time i just wish i could ve died in one of my attempts before i realized it before i felt the closeness to death without making it there maybe i ll get it over with soon\n",
      "WISH: well another concert even immediately after i snapped back to bpd mode the day overall wasn t that great i was happy to be there but none of the videos i took recorded with sound immediately flew me into a of fucking course i try to have one fucking good thing happen and of course it s fucked up because everything in my life is always fucked up and everything goes wrong mood i just feel like fucking garbage i m fucking upset about that because my shit memory already hardly remembers the concert and now i don t have much to look back on it and now i m back to wanting to kill myself over everyone in my life abandoning me as if the thought even left i just wasn t going to kill myself right before i had a plan to do something nice but now it s over and it s back to what s the fucking point i m on borrowed time i just wish i could ve died in one of my attempts before i realized it before i felt the closeness to death without making it there maybe i ll get it over with soon\n",
      "TIRED: i m venting so i apologize for the length of the post but this has been bottled up for a while i ve pretty much self diagnosed myself with anxiety since i was a teenager i ve always struggled in crowds doing things that should be easy but require enormous effort from me not to be terrified of etc however i ve had random bouts where i felt like my anxiety was gone and then times when i ve come spiraling down in horrible meltdowns every other night i have no idea what has caused me to become so horrible with abandonment that s the only thing i can link it to whenever i get upset with my boyfriend i typically prefer to bottle it rather than express it because if i do express it i m going to break down into sobs and fear that the moment i speak my mind he s going to leave it s irrational and i know it s completely irrational which is why for a while now i ve deal with my melt downs alone and told no one because i know they re irrational and that it will pass but i need to find a way to cope and speak my mind without a full on panic attack if that s what s going on and i can t when i don t even know the root of it in past relationships i ve spent countless hours coaching myself not to expect anyone to love me like i love them because it just won t happen this started as a young ish teenager and i have no idea how or when these feelings developed i did it with friends and romantic relations as well i pretty much coached myself into being okay with not being good enough i refuse to believe that a little bit of bullying that happened in the 7th grade has turned me into a 19 year old mess lol have i accidentally brainwashed myself what the hell when did i become so self destructive around november i had something particularly bad happen to me during time s of stress which i am in right now queue the meltdowns every night sometimes i feel as if i m flashing back to what happened i still don t completely know what happened and it kills me not knowing it doesn t stop intrusive thoughts of what i do remember though i guess i should mention that i don t have the money for therapy i don t know how to help myself i have no idea what s wrong with me or if there s anything wrong at all maybe i m just incredibly stressed out the point is i m tired of suffering in silence because i m scared no one will take me seriously it s never been this bad why am i freaking out so badly what the hell is going on in my head maybe i just need validation that i m not crazy i live in the us and i m a college student does anyone know if there are resources available for me as a student\n",
      "LOOK: this is going to be very long but i just want to paint the best picture possible meaning the most detail not the prettiest of the situation i'll put a basic tldr at the bottom from 2014 to 2016 i was in a very physically emotionally verbally abusive relationship he also cheated often during this time march 2016 to be exact i had also been hospitalized after a suicide attempt i don't want to go into too much detail on this towards the end of the relationship the abuse was so bad that i ended up leaving the apartment we lived in together with a bag of clothes that same week i found out i was pregnant august 2016 i initially wanted to work this out but very quickly realized i would not only be putting myself in the same danger i had been in but my baby as well i let go of the apartment and decided to live with my parents changed my number and made sure he knew if he came close to me i would throw him in jail he would pass by my parents home at random times and there were times where he would call my work over and over excessively but other than this he never came near me i always went to work and home with other people and rarely went out because i was so afraid he'd try to find me or if he saw me he would hurt me well in mid september a guy was transferred to my store to work as the new assistant manager we didn't talk much at first but the first time he saw me he could not take his eyes off me i remember i walked into the store he was on the phone and he looked up and watched me the entire walk to the back of the counter i thought maybe he was just trying to figure out if he had met me before anyway we would talk sometimes he was in a relationship with a girl who would come into the store acting crazy and possessive and would also call excessively to make sure he was at work she was also pregnant in october she had a miscarriage a few weeks later he left her and moved into a friend's apartment where she showed up and punched him he had to call the police on her and after that she left him alone in november he messaged me one night he had never done so before and i didn't even know he had my number he had gotten it from a co worker he asked me to the movies and i was confused at first and had to ask if he was asking me out on a date he said yes from then on we secretly began messaging each other very flirtatiously he brought up the first time he saw me walk into the store how we thought i was beautiful but knew he couldn't approach me that way because he was in a relationship he knew i was pregnant and he was okay with that i tried to shut it down at this point i just let him know that i wanted to focus on getting ready to be a parent and that my last relationship had caused some serious trust issues for me and i didn't know how it'd affect anything else he said he understood but was willing to break down my walls and that he did not mind working towards being a father figure for my child he was ready for a family as well i was hesitant but after a month had passed from this conversation i let my walls down and decided to enter into a relationship with him fast forward to february his mother has been hospitalized and his grandmother is in failing health they both live in virginia he doesn't make a lot of money and the company wasn't going to give him any leave time and basically told him if he left for awhile it would be considered no call no shows on his end and he would be terminated he had a decision to make and he chose to move back to virginia he begged me to go with him but i couldn't my due date was fast approaching i had my parents and sister to think about we were both devastated and we cried a lot on february 27th he left and i felt every part of me breaking down inside i had grown really close to him i fell in love and he fell in love with me too and he treated me like a human being and cared about the life inside of my belly he promised he would try to come back but also urged me to consider flying out to be with him i fell into a depression that march and had my baby 3 weeks early he was calling constantly and asking for pictures he would video chat with my son sometimes i was at a stand still i had a decision to make start looking for work in my home town and get on my feet for my baby and miss out on potentially the love of my life or take a chance and move to virginia and start a life with this person one day my mom sat with me and talked with me she told me she could feel my sadness and that she just wanted me to be happy she told me not to think about anyone else to just think about what i felt would be best for me and my son and to just follow my heart and when she said that i knew i had to come here it was the most honest and heartfelt talk she had ever had with me and i think part of her felt that this was what needed to happen in mid april i decided to move out to virginia it was hard my family had a very hard time dealing with the emotional impact of losing me and my son it was hard but i did it dean this is what we'll call him for identity purposes shout out to supernatural had found us an apartment and set it up for our arrival and bought the plane ticket i flew out with my son in june it was like we had never missed a beat and he had an instant connection with my son this is where things turn sour from the time i have gotten here till now i have constantly questioned him i have accused him of doing things he probably isn't doing like cheating or not being where he says he is if he is 10 or even 5 minutes late from work i lose my shit i even accused him of having an affair with the young girl who was living above us with her dad at the apartment we moved to a house in march because he thought it would be good for us and multiple other people too when i take a step back and look at the big picture i know how crazy i sound when i make these accusations but when they happen at the time it is so real to me these are just some examples there is so much more that i don't have the luxury of putting cause i just realized this post is at a great length already it isn't just him i distrust it's the world i have severe paranoia an example one night i went to the atm alone left my truck on when i went inside the building as i was driving back home through a backroad i became outrageously afraid that someone was in the back of my explorer i began panicking and had to pull over at a 711 of course no one was there i have had several of these incidents occur there are also certain smells noises movies etc that take me back to my past relationship i also have nightmares a few months ago i decided to start seeing a therapist she has diagnosed me with ptsd and generalized anxiety and from her viewpoint dean has done nothing wrong to have to deal with this amount of distrust and doubt from me but she understands that my past relationship has caused a sort of rewiring of my brain that she believes will take a massive amount of therapy coupled with a mood stabilizer since exercises we have tried have not worked for me at all i have a hard time shutting my brain off and she thinks this is the best course of action she also has suggested that dean go in with me for a few sessions so she can get the best picture possible of our situation from both sides to which he has agreed to with no hesitation however i cannot get on meds until i'm referred to a psychiatrist and i can't do that until the end of the september which was the soonest i could get into a primary doctors care and then i still have to see how long a psychiatrist will want to see me before prescribing something therapy itself only helps when i'm actually in the room with my therapist after i leave my brain goes back to crazy shit i did not give myself time to heal i understand this i wish i had never made the decision to come here our relationship is deteriorating due to my lack of trust in him he had been very patient at first but my behavior is severely impacting the potential of our future i'm at a point where i don't know if staying with him is the best thing for him he is miserable and i don't want to be the cause of his unhappiness we both know he can't fix me and i don't want him to have to endure this level of crazy anymore i don't know how long it will take for me to be better and i don't want him to end up resenting me the reason i am posting this is because we had an argument today and it seems like he is already setting out on that path i hate myself i hate who i have become he such a wonderful father to my son and he does so much for us his life revolves around us i hate my brain i guess i'm at another crossroads i just don't know what to do i'm sorry this post is so long i didn't realize how long until now but thank you to whoever has taken the time to read it and if you are thinking of responding and have any additional questions please feel free to ask tldr i was in an extremely abusive relationship for 2 years got pregnant and left and went no contact i met someone soon after and fell in love and moved out of texas to virginia to be with him and start a family i have been diagnosed with ptsd and generalized anxiety my severe trust issues and continuous accusations are wearing down our relationship i'm at a crossroad of either staying and healing through therapy medication while staying in the relationship or leaving and breaking up the family and life we have started and healing on my own for the sake of my so's sanity and well being i guess it's mostly something i just needed to get out to someone other than my therapist but any responses are welcome because i would love to hear outside viewpoints any questions are welcome edit i didn't say much about myson but i also want to add that i don't like the idea of him growing up witnessing this behavior and thinking it is normal or okay i'm afraid of the effects it'll have on him later as well he loves his dad very much and is still little and doesn't really understand what's going on but i know how fragile children can be and i hate to think of him being in the middle of all this\n",
      "WISH: this is going to be very long but i just want to paint the best picture possible meaning the most detail not the prettiest of the situation i'll put a basic tldr at the bottom from 2014 to 2016 i was in a very physically emotionally verbally abusive relationship he also cheated often during this time march 2016 to be exact i had also been hospitalized after a suicide attempt i don't want to go into too much detail on this towards the end of the relationship the abuse was so bad that i ended up leaving the apartment we lived in together with a bag of clothes that same week i found out i was pregnant august 2016 i initially wanted to work this out but very quickly realized i would not only be putting myself in the same danger i had been in but my baby as well i let go of the apartment and decided to live with my parents changed my number and made sure he knew if he came close to me i would throw him in jail he would pass by my parents home at random times and there were times where he would call my work over and over excessively but other than this he never came near me i always went to work and home with other people and rarely went out because i was so afraid he'd try to find me or if he saw me he would hurt me well in mid september a guy was transferred to my store to work as the new assistant manager we didn't talk much at first but the first time he saw me he could not take his eyes off me i remember i walked into the store he was on the phone and he looked up and watched me the entire walk to the back of the counter i thought maybe he was just trying to figure out if he had met me before anyway we would talk sometimes he was in a relationship with a girl who would come into the store acting crazy and possessive and would also call excessively to make sure he was at work she was also pregnant in october she had a miscarriage a few weeks later he left her and moved into a friend's apartment where she showed up and punched him he had to call the police on her and after that she left him alone in november he messaged me one night he had never done so before and i didn't even know he had my number he had gotten it from a co worker he asked me to the movies and i was confused at first and had to ask if he was asking me out on a date he said yes from then on we secretly began messaging each other very flirtatiously he brought up the first time he saw me walk into the store how we thought i was beautiful but knew he couldn't approach me that way because he was in a relationship he knew i was pregnant and he was okay with that i tried to shut it down at this point i just let him know that i wanted to focus on getting ready to be a parent and that my last relationship had caused some serious trust issues for me and i didn't know how it'd affect anything else he said he understood but was willing to break down my walls and that he did not mind working towards being a father figure for my child he was ready for a family as well i was hesitant but after a month had passed from this conversation i let my walls down and decided to enter into a relationship with him fast forward to february his mother has been hospitalized and his grandmother is in failing health they both live in virginia he doesn't make a lot of money and the company wasn't going to give him any leave time and basically told him if he left for awhile it would be considered no call no shows on his end and he would be terminated he had a decision to make and he chose to move back to virginia he begged me to go with him but i couldn't my due date was fast approaching i had my parents and sister to think about we were both devastated and we cried a lot on february 27th he left and i felt every part of me breaking down inside i had grown really close to him i fell in love and he fell in love with me too and he treated me like a human being and cared about the life inside of my belly he promised he would try to come back but also urged me to consider flying out to be with him i fell into a depression that march and had my baby 3 weeks early he was calling constantly and asking for pictures he would video chat with my son sometimes i was at a stand still i had a decision to make start looking for work in my home town and get on my feet for my baby and miss out on potentially the love of my life or take a chance and move to virginia and start a life with this person one day my mom sat with me and talked with me she told me she could feel my sadness and that she just wanted me to be happy she told me not to think about anyone else to just think about what i felt would be best for me and my son and to just follow my heart and when she said that i knew i had to come here it was the most honest and heartfelt talk she had ever had with me and i think part of her felt that this was what needed to happen in mid april i decided to move out to virginia it was hard my family had a very hard time dealing with the emotional impact of losing me and my son it was hard but i did it dean this is what we'll call him for identity purposes shout out to supernatural had found us an apartment and set it up for our arrival and bought the plane ticket i flew out with my son in june it was like we had never missed a beat and he had an instant connection with my son this is where things turn sour from the time i have gotten here till now i have constantly questioned him i have accused him of doing things he probably isn't doing like cheating or not being where he says he is if he is 10 or even 5 minutes late from work i lose my shit i even accused him of having an affair with the young girl who was living above us with her dad at the apartment we moved to a house in march because he thought it would be good for us and multiple other people too when i take a step back and look at the big picture i know how crazy i sound when i make these accusations but when they happen at the time it is so real to me these are just some examples there is so much more that i don't have the luxury of putting cause i just realized this post is at a great length already it isn't just him i distrust it's the world i have severe paranoia an example one night i went to the atm alone left my truck on when i went inside the building as i was driving back home through a backroad i became outrageously afraid that someone was in the back of my explorer i began panicking and had to pull over at a 711 of course no one was there i have had several of these incidents occur there are also certain smells noises movies etc that take me back to my past relationship i also have nightmares a few months ago i decided to start seeing a therapist she has diagnosed me with ptsd and generalized anxiety and from her viewpoint dean has done nothing wrong to have to deal with this amount of distrust and doubt from me but she understands that my past relationship has caused a sort of rewiring of my brain that she believes will take a massive amount of therapy coupled with a mood stabilizer since exercises we have tried have not worked for me at all i have a hard time shutting my brain off and she thinks this is the best course of action she also has suggested that dean go in with me for a few sessions so she can get the best picture possible of our situation from both sides to which he has agreed to with no hesitation however i cannot get on meds until i'm referred to a psychiatrist and i can't do that until the end of the september which was the soonest i could get into a primary doctors care and then i still have to see how long a psychiatrist will want to see me before prescribing something therapy itself only helps when i'm actually in the room with my therapist after i leave my brain goes back to crazy shit i did not give myself time to heal i understand this i wish i had never made the decision to come here our relationship is deteriorating due to my lack of trust in him he had been very patient at first but my behavior is severely impacting the potential of our future i'm at a point where i don't know if staying with him is the best thing for him he is miserable and i don't want to be the cause of his unhappiness we both know he can't fix me and i don't want him to have to endure this level of crazy anymore i don't know how long it will take for me to be better and i don't want him to end up resenting me the reason i am posting this is because we had an argument today and it seems like he is already setting out on that path i hate myself i hate who i have become he such a wonderful father to my son and he does so much for us his life revolves around us i hate my brain i guess i'm at another crossroads i just don't know what to do i'm sorry this post is so long i didn't realize how long until now but thank you to whoever has taken the time to read it and if you are thinking of responding and have any additional questions please feel free to ask tldr i was in an extremely abusive relationship for 2 years got pregnant and left and went no contact i met someone soon after and fell in love and moved out of texas to virginia to be with him and start a family i have been diagnosed with ptsd and generalized anxiety my severe trust issues and continuous accusations are wearing down our relationship i'm at a crossroad of either staying and healing through therapy medication while staying in the relationship or leaving and breaking up the family and life we have started and healing on my own for the sake of my so's sanity and well being i guess it's mostly something i just needed to get out to someone other than my therapist but any responses are welcome because i would love to hear outside viewpoints any questions are welcome edit i didn't say much about myson but i also want to add that i don't like the idea of him growing up witnessing this behavior and thinking it is normal or okay i'm afraid of the effects it'll have on him later as well he loves his dad very much and is still little and doesn't really understand what's going on but i know how fragile children can be and i hate to think of him being in the middle of all this\n",
      "LOOK: hi i'm z this is going to be very long and i apologize in advance two years ago i met this person who was going to be my best bud he was not an individual who would stand out in a crowd he was kind of timid and had low self esteem in fact i only got to know of his existence when he was put in the same group as me and we were a fairly small class about myself i was not very social but i excelled in my academics so i was a prominent person in about two months into our project we started getting along very well on a personal level we were more than just group mates we became best friends our friendship was very wholesome and we supported each other with everything he was kind of depressed so i used to gas him up a lot i would guide him with his presentations and beta read his work for him eventually he started getting better he got more confident and i was proud of that i still am he's come a long way but fast forward around a year later he started being controlling and looking down on me our project supervisor the same one as was for our first project called me for a private chat one day she told me that i was letting my friend boss me around and i had to stand my ground she would observe us working for the project so i guess she would notice things i ignored this meeting with her because i thought that i'd be okay with it that thing it continued to grow he became intimidating to me because he would be so condescending he would talk to me like i was inferior to him he was fine whenever i complied with what he wanted me to do but anything i do that he does not like and he would explode in the past few months i've had to give him explanations countless times or else he would call me things like fake hoe or stuff he has also become very self obsessed like all he talks about is how good he looks how intelligent he is how he is the best on the other hand i am the most flawed person to him he only sees the flaws in everything i do and then he's sarcastic about it it hurts for instance i sent him an article i spent days writing and he hit me with instant criticism about how i should scrap it and write it all over again when i stood my ground and told him that i thought the article was fine all he did was reply with a sarcastic yeah i love it the article was actually good because it got praised by the website i was writing for it broke my heart because i used to beta read for him and i was never harsh in my criticisms while he doesn't give a hoot about my feelings he made a lot of new friends alongside me and i was good with it what i wasn't good with was how he didn't really care about me he'd be hanging out with his new people he wouldn't call me to ask what i was doing all my other friends had left the school so i was very lonely i'd be the person to hit him up and call him to see where he was he wasn't putting any effort to maintain our friendship i tried talking to him and gently explaining how this behavior was hurting me but he would always claim that i was overthinking and that it was all drama so i actually started distancing myself from him just to see if he really doesn't care he really didn't care i couldn't take it every day at school was too mentally exhausting and the final straw was when he got mad at me for not replacing him with my co partner a week before i had my event bear in mind that i had asked him three months prior if he wanted to be my co head and he declined i decided to let go of him change schools during our festival he didn't hang out with me he hung out with his new people even though he knew that this was the last time i'd be a part of this with him he didn't care at all about our friendship or the connection we had when i was seeing everyone at school for the last time i said goodbye to and he fuccin high fived me didn't say anything else and then he left we're still in touch he still wants to be my 'best friend' when the situation favors him that's the only time he claims to be my best friend i miss our time together it was good he's very narcissistic now i'm concerned for his mental health and my own too i feel like a wimp because i could not deal with what he had become there are a lot of things that i didnt mention here that led me to believe that he most probably has a personality disorder read up on the symptoms and each of them is him https www mayoclinic org diseases conditions narcissistic personality disorder symptoms causes syc 20366662 https www mayoclinic org diseases conditions narcissistic personality disorder symptoms causes syc 20366662 amp x200b i'm sorry i left you but i think that you're happier without me with your new people i'm sorry i didn't help you with this but seeing you every day reminded me of the lost connection we had and it hurt i'm kind of depressed and unproductive i can't focus on my school work squish if u ever read this im sorry i still miss u and i'd give u a second chance any day just reach out to me sincerely tl dr my best friend slowly became a narcissist and i couldn't cope with it so i changed schools i don't know what to do about it now and i don't know if i can help him sad and lost\n",
      "LOOK: tl dr medication is hard to figure out it's hard to find a good therapist nothing medically seems to be going my way and my life is suffering for it amp x200b about 3 years ago i separated from and divorced my emotionally and physically abusive ex husband shortly after we separated i went to visit a psychiatrist i was 25 at the time and had been seeing various therapists since i was 14 my parents sent me to my first therapist after they discovered i was cutting myself not suicidal cutting just i like the feel of pain cutting anyways after years of seeing a therapist i finally had one suggest i see a psychiatrist and i was diagnosed with just a slew of things mild ocd generalized anxiety disorder with panic attacks major depressive disorder insomnia and adhd as you can imagine finding a set of medications for me to take has been difficult because of my anxiety my psychiatrist didn't want to put me on a stimulant for adhd so i started out with straterra and then gabapentin for sleep after a while i was still feeling exhausted and unmotivated we decided that maybe i wouldn't be anxious if i was feeling more motivated so then i was switched to wellbutrin vyvanse and gabapentin then i moved across the country after my divorce was finalized and my new health insurance wouldn't cover vyvanse so i was given wellbutrin and dextroamphetamine with the gabapentin i woke up feeling like i had been hit by a train so my new doctor gave me trazadone for sleep that worked for short while i guess but then we realized that my heart rate was regularly very high i also had not been sleeping well at all i kept having extremely vivid bad dreams not necessarily nightmares just dreams that made me feel helpless and ashamed my dreams were so vivid that i stopped feeling like i was even sleeping at night i just woke up feeling exhausted all the time so we tried something new zoloft straterra and hydroxyzine if i was at 15 sleep quality before the hydroxyzine i was at about 45 sleep quality after it huge improvement still not great though meanwhile my executive functioning is almost non existent i'm so unreliable at work that i'm only scheduled for 9 hours of work a week i keep missing work because i'm too tired or just can't seem to make myself get out of bed they can't legally fire me for the disorders i have but they can work me so little that i can't pay my bills it's fine i'm a student so i just took out extra student loans to cover what time i'm missing at work i don't have the mental energy to look for a new job while trying to write a thesis in my last year of graduate school while all this other shit is going on the thing is i don't feel depressed i am very familiar with the feeling of can't get out of bed depression this is more like i want to get out of bed but i can't seem to convince myself to or i lose track of time and then i just miss work it's like i'm so tired that my adhd medication isn't working i guess i tried seeing a sleep doctor to see if there's anything they can do about the dreams i also sometimes talk in my sleep i've had sleep paralysis on occasion and i've punched people in my sleep who sleep next me unfortunately the doctor only tested me for sleep apnea they made me fill out this sleep questionnaire where i wrote down vivid dreaming sleep paralysis sleep walking talking etc after the sleep apnea test they called me to tell me that i have such mild sleep apnea that insurance won't even cover a cpap or mouth guard i asked them what about all the other stuff on my sleep questionnaire and the lady literally said oh we only looked at the questions that pertain to sleep apnea so i had to make a special appointment with the actual sleep doctor not the secretary lady to ask questions about the content of my sleep two months later i finally got him on the phone only for him to say there's nothing we can do about the content of your sleep you're genetically predisposed to being a night owl and a vivid dreamer but you show no signs of narcolepsy so there's nothing we can do typically if you're a night owl we suggest finding a job that will accommodate your natural sleep hours apparently because my mom is a night owl and my dad has narcolepsy i'm genetically predisposed to this shit but there's nothing they can do to help me my new therapist new because i moved to a new state has mentioned i may have ptsd and that's why i may be dreaming so vividly but there's no medication for ptsd and my therapist isn't sure what to do for me because i'm one of the rare people who analyzes my emotions before i have the chance to feel them so regarding my divorce i've already processed everything that happen but i did that before feeling anything about the divorce and the abuse so now i have all these residual feelings i have to deal with i have to find a new therapist who can help me so that i can work through the ptsd in the meantime i guess i just suffer get poor sleep have trouble paying bills because my mental health makes me an unreliable employee i don't really have a point to all this i just needed to vent i'm tired and i'm so tired of dealing with myself and hearing myself think over the years i've come up with a lot of coping mechanisms to deal with my issues but more problems keep coming up and i don't know how to deal with them anymore\n",
      "TIRED: tl dr medication is hard to figure out it's hard to find a good therapist nothing medically seems to be going my way and my life is suffering for it amp x200b about 3 years ago i separated from and divorced my emotionally and physically abusive ex husband shortly after we separated i went to visit a psychiatrist i was 25 at the time and had been seeing various therapists since i was 14 my parents sent me to my first therapist after they discovered i was cutting myself not suicidal cutting just i like the feel of pain cutting anyways after years of seeing a therapist i finally had one suggest i see a psychiatrist and i was diagnosed with just a slew of things mild ocd generalized anxiety disorder with panic attacks major depressive disorder insomnia and adhd as you can imagine finding a set of medications for me to take has been difficult because of my anxiety my psychiatrist didn't want to put me on a stimulant for adhd so i started out with straterra and then gabapentin for sleep after a while i was still feeling exhausted and unmotivated we decided that maybe i wouldn't be anxious if i was feeling more motivated so then i was switched to wellbutrin vyvanse and gabapentin then i moved across the country after my divorce was finalized and my new health insurance wouldn't cover vyvanse so i was given wellbutrin and dextroamphetamine with the gabapentin i woke up feeling like i had been hit by a train so my new doctor gave me trazadone for sleep that worked for short while i guess but then we realized that my heart rate was regularly very high i also had not been sleeping well at all i kept having extremely vivid bad dreams not necessarily nightmares just dreams that made me feel helpless and ashamed my dreams were so vivid that i stopped feeling like i was even sleeping at night i just woke up feeling exhausted all the time so we tried something new zoloft straterra and hydroxyzine if i was at 15 sleep quality before the hydroxyzine i was at about 45 sleep quality after it huge improvement still not great though meanwhile my executive functioning is almost non existent i'm so unreliable at work that i'm only scheduled for 9 hours of work a week i keep missing work because i'm too tired or just can't seem to make myself get out of bed they can't legally fire me for the disorders i have but they can work me so little that i can't pay my bills it's fine i'm a student so i just took out extra student loans to cover what time i'm missing at work i don't have the mental energy to look for a new job while trying to write a thesis in my last year of graduate school while all this other shit is going on the thing is i don't feel depressed i am very familiar with the feeling of can't get out of bed depression this is more like i want to get out of bed but i can't seem to convince myself to or i lose track of time and then i just miss work it's like i'm so tired that my adhd medication isn't working i guess i tried seeing a sleep doctor to see if there's anything they can do about the dreams i also sometimes talk in my sleep i've had sleep paralysis on occasion and i've punched people in my sleep who sleep next me unfortunately the doctor only tested me for sleep apnea they made me fill out this sleep questionnaire where i wrote down vivid dreaming sleep paralysis sleep walking talking etc after the sleep apnea test they called me to tell me that i have such mild sleep apnea that insurance won't even cover a cpap or mouth guard i asked them what about all the other stuff on my sleep questionnaire and the lady literally said oh we only looked at the questions that pertain to sleep apnea so i had to make a special appointment with the actual sleep doctor not the secretary lady to ask questions about the content of my sleep two months later i finally got him on the phone only for him to say there's nothing we can do about the content of your sleep you're genetically predisposed to being a night owl and a vivid dreamer but you show no signs of narcolepsy so there's nothing we can do typically if you're a night owl we suggest finding a job that will accommodate your natural sleep hours apparently because my mom is a night owl and my dad has narcolepsy i'm genetically predisposed to this shit but there's nothing they can do to help me my new therapist new because i moved to a new state has mentioned i may have ptsd and that's why i may be dreaming so vividly but there's no medication for ptsd and my therapist isn't sure what to do for me because i'm one of the rare people who analyzes my emotions before i have the chance to feel them so regarding my divorce i've already processed everything that happen but i did that before feeling anything about the divorce and the abuse so now i have all these residual feelings i have to deal with i have to find a new therapist who can help me so that i can work through the ptsd in the meantime i guess i just suffer get poor sleep have trouble paying bills because my mental health makes me an unreliable employee i don't really have a point to all this i just needed to vent i'm tired and i'm so tired of dealing with myself and hearing myself think over the years i've come up with a lot of coping mechanisms to deal with my issues but more problems keep coming up and i don't know how to deal with them anymore\n",
      "TIRED: after a week of vacation where i felt great and thought hey maybe it's going up now i am sitting at work again unable to cope i feel every heartbeat over my whole body am nauseous as hell my ears ring i can't breathe my walking is unsteady because i feel like i am in a rocking boat all the time i'm twitchy and tired amp x200b going up yeah right fuck this illness i'm on lexapro 20mg wellbutrin 150mg and trazodone 50mg and still feel like shit most of the time at least it's better than without medication amp x200b i had a lot of sick leaves thinking i'm dying but every single doctore i went to confirmed what i kind of already knew but didn't want to believe it's all psychosomatic and it's hell sometimes i'd rather some doctor finds a physical cause for my problems so it can be treated but that's never gonna happen because there is none amp x200b in april i'm going to a rehab clinic specialized on psychosomatic disorders for 6 weeks to get intensive therapy i hope to come out as a changed person if even that doesn't help i don't know this life isn't worth living amp x200b just needed an outlet stay strong fellow sufferers lt 3\n",
      "LOOK: i'm not sure if it's something i always did but i started noticing it when i was 14 around that time i going through a very difficult time where i was just in a really bad state of mind something traumatic for me did happen well i know i spaced out in class but i really was trying not to it was like one moment i was paying attention to the teacher and listening to the material the next my mind was off somewhere she did catch my attention when i did this because i would sort of look away and look off into space she discussed it with me and my other teachers when we had a meeting about me basically they said the thought i was depressed and she mentioned the zoning out i explained to her i really didn't mean it they were all very understanding and she just continued to grab my attention whenever i did do this i notice it a lot more it's not even that i'm bored it just happens i have to out subtitles on when i watch tv because i'm paying attention one moment and then lost in my thoughts the next or i'm completely spaced out where i'm not even thinking just zoned out even in normal conversation it happens and i feel bad because it seems i'm voluntarily not paying attention as for the train of thought i find myself talking about something but then i kind of go blank and keep saying umm because i just can't get the words out it mostly happens when i'm very anxious and i think that's the issue maybe but it happened a lot today i kept repeating what i said not in like a stutter or anything i was explaining something and mind sort of just went blank and i struggled to explain it and repeated myself a lot i don't know if its something i should concern myself with if it's worth bringing it up to a doctor i find its easier to just explain things typing than saying it because then i make no sense lol\n",
      "LOOK: so i'm trans and idk if it's the dysphoria but i'm feeling rlly weird inside of myself there's just something odd about being in this body and my head just constantly feels in the clouds it's like i'm not there and my hands look weird in my pov i just don't wanna do this anymore sadie\n",
      "LOOK: some clarification i'm 15 yr old guy in uk i started a new school almost a year ago i moved to uk almost a year ago too i was nice i tried to apeal to them to have friends but students started behave like bastards to me i self harm and it helps i have low self steem i hate myself and now i have suicidal thoughts tbh i hate everyone and everything i'm so sick of those fucking bastards 2 times they were physical teachers ignore it they won't stop teachers won't help today one snaped my ruler in a couple of pieces and when i came home and told everything to my mom she told me that i care too much about little things i snaped and said i give up that i don't care about anything and i mean it she told me that i'll need to go to a psychiatrist i think that was a false threat trying to put me in place and tgat something's wrong with me she doesn't know about my self harm she came to appologize but i rejected i'm done with humans i hate every last one of those bastards i am not scared to throw everything away if noone will help me if noone will listen to me then there's no point in continueing you know when you have a realistic dream that seems like a reality well something like that happened to me this past 2 weeks it was when i was in school and upset angry and i would see me killing myself abd then i snaped back to reality maybe a weird daydream whenever i opened up tried to change tried to be better than this puece of shit being i am i would fail get hurt if being an adult is even harder then i don't want it video games anime and reading were my only hobbies and they don't help i don't care i don't want to care if my mom doesn't see my pain then there's no point i won't kill myself too scared of dying but exsisting hurts a lot i've never been mentally ill just tics which are getting better at least something's getting better if she sends me to psychiatrist or a mental hospital i don't care not my problem if she doesn't same opinion i ruined my life in the previous country and here it isn't getting better i can't even defend myself phisically or verbally if i get hit because then we are even in school i isolated myself better than gettig hurt when i told my mom i give up she said you wont give when it come to school grades and stuff i said that i give up i'm just a stupid worthless piece of garbage who doesn't have a future so wgy even bother she is still probably angry and i don't care even though i'm nit glad i probably hurt her feelings i don't care new info well before my mom left for work we were talking about the situation she told me she sent an email to the head of the year teacher and to the principal although even if it gets rid of bullies i still won't un isolate myself i gave everyone students and teacher a chance and they didn't do anything after i told my mom i can't forgive her she told me that if i'm angry at her she'l be angry at me and stuff about how i can't be angry at the world i mean if i can't be angry at school or at home what am i supposed to do just suck it up and ignore it i mean it hurt a bit to tell her that i won't forgive her for what she's said but if i can't forgive her i just can't i'm a normal ish person tics that are calming a bit make look a bit weird blinking weirdly and some other and she told me that i'll have to see a therapist it was an epty threat she won't act on it and she's telling me some you're different bs i mean if i am different how am i supposed to make it in life i won't forgive her anyone now i am trully alone in this mess well being with no friends for 4 or 5 years now sucks but having my own mother basically call me insane just hurts her justification was that she was trying to snap me out of it like saying that did any good my head is a mess rn but if i'm not allowed to feel anger towards this or anything i'm done i just don't care about anything or anyone i don't want to care even my hobbies fon't make me happy anymore they have my attention but in the end just feel empty i can laugh at memes or jokes but mostly i'm just a dull idiot and a failure as a student son and a person and yes i know i didn't experience life yet but to me if the adult life is even harder than to me it just isn't worth it and even if bullies stop the damage is done there rumors about me how i'm retarded and some other i'm not religious but they can all go to hell gor what i care anyway thanks for reading\n",
      "WISH: i reached out to an old friend after years of not seeing each other or talking nothing happened to our friendship just drifted apart i suppose we went out to lunch to catch up and it was literally the worst i thought it would be good and i could share everything i've been dealing with for years that this friend has missed thing is we just talked about her and she didn't ask how i was doing or anything this was really upsetting to me as my depression and bpd already have a significant impact on my relationships and i really don't have friends these days i guess i was hoping things would be like they used to be but it wasn't even close now i'm super down and wishing i just never tried with anyone ever because i feel like no one cares about me or wants me around even though i know these thoughts are largely irrational i can't help but find slivers of truth everyone says that adult friendships are tough but it's so much worse with these issues running my mind\n",
      "LOOK: starting with one that's fucking me up the most my sleep my sleep schedule is so jacked today i slept through dinner and it's always the same sleep pattern stay up all night having a mental breakdown be tired all day constantly almost passing out and disassociating then as soon as dinner comes i either pass out before dinner's ready or when i eat i go straight to bed and pass out i've literally fallen asleep on video calls multiple times and sleep isn't coming to me since i've had those weird hallucinations dreams to the next problem i can't cry anymore it's been like months and i haven't been able to fucking cry i can make myself get choked up and feel tears in my eyes like you do when you cry but tears never fall even when they do it's for two seconds then it stops i have no way to release pent up emotions besides writing and drawing and even then it doesn't help that much i've been trying to cry for the longest time but i just can't every day i'm just this emotionless being but as soon as i'm alone all of it just comes out not the tears but all the negative emotions i don't know if i'm emotionally strong or a heartless sociopath next problem i want to kill someone then myself i want to slide a knife through someone's chest and watch the pained look on their face as they realize that they're not going to live stab them over and over and over again until that pained look becomes empty and dead i want to break every bone in their body cut off every limb cut out their tongues their eyes their ears behead them slice through their stomach and rip out their heart their intestines gut them like a fish soak the remains in gasoline and burn it leave nothing but a pile of ashes and blood on the ground then use that same knife and cut every inch of skin on my arms until there's blood dripping off my arms i want to punch the walls until my knuckles are bleeding last fucked up thing i would have new cuts every minute if i didn't want my mom to find out every time i cut she would give me the same lecture you know i'm here for you right do we need to go to therapy more often you're just distracting yourself from the real pain ' 1 the whole point is to distract myself from the emotional pain and 2 going to therapy makes me feel worse i haven't cut for longer than i want it to be every time i feel any sort of emotions my arm starts to itch where my scars are and sometimes they start to get like waves of pain it's like my body wants me to cut and trust me i want to but not only will my mother notice everyone else i live with will notice and i don't need them treating me like i'm some sort of special little kid so in conclusion for someone who's a selfish narcissistic bitch i hate myself a fuck ton\n",
      "TIRED: starting with one that's fucking me up the most my sleep my sleep schedule is so jacked today i slept through dinner and it's always the same sleep pattern stay up all night having a mental breakdown be tired all day constantly almost passing out and disassociating then as soon as dinner comes i either pass out before dinner's ready or when i eat i go straight to bed and pass out i've literally fallen asleep on video calls multiple times and sleep isn't coming to me since i've had those weird hallucinations dreams to the next problem i can't cry anymore it's been like months and i haven't been able to fucking cry i can make myself get choked up and feel tears in my eyes like you do when you cry but tears never fall even when they do it's for two seconds then it stops i have no way to release pent up emotions besides writing and drawing and even then it doesn't help that much i've been trying to cry for the longest time but i just can't every day i'm just this emotionless being but as soon as i'm alone all of it just comes out not the tears but all the negative emotions i don't know if i'm emotionally strong or a heartless sociopath next problem i want to kill someone then myself i want to slide a knife through someone's chest and watch the pained look on their face as they realize that they're not going to live stab them over and over and over again until that pained look becomes empty and dead i want to break every bone in their body cut off every limb cut out their tongues their eyes their ears behead them slice through their stomach and rip out their heart their intestines gut them like a fish soak the remains in gasoline and burn it leave nothing but a pile of ashes and blood on the ground then use that same knife and cut every inch of skin on my arms until there's blood dripping off my arms i want to punch the walls until my knuckles are bleeding last fucked up thing i would have new cuts every minute if i didn't want my mom to find out every time i cut she would give me the same lecture you know i'm here for you right do we need to go to therapy more often you're just distracting yourself from the real pain ' 1 the whole point is to distract myself from the emotional pain and 2 going to therapy makes me feel worse i haven't cut for longer than i want it to be every time i feel any sort of emotions my arm starts to itch where my scars are and sometimes they start to get like waves of pain it's like my body wants me to cut and trust me i want to but not only will my mother notice everyone else i live with will notice and i don't need them treating me like i'm some sort of special little kid so in conclusion for someone who's a selfish narcissistic bitch i hate myself a fuck ton\n",
      "LOOK: to start off i've been getting really down lately about everything in the news and i've been feeling really hopeless and kind of depressed lately over it i've ended up spending hours trawling through r politics which feels twice as bad because im from the uk and it really shouldn't bother me and covid19 related sub reddits as well as just generally looking through the news and it's all made me feel overwhelming negative i'd like to sort of detach really and just isolate myself from it all because i just feel tired of it but the interest has in my opinion become obsessive and damaging to make matters worse i was looking to speak to my gp about my anxiety as well as getting a diagnosis for asd and now with everything thats going on i just feel kind of stuck this was mostly to vent but if anyone has any advice could you please share it with me thanks\n",
      "TIRED: to start off i've been getting really down lately about everything in the news and i've been feeling really hopeless and kind of depressed lately over it i've ended up spending hours trawling through r politics which feels twice as bad because im from the uk and it really shouldn't bother me and covid19 related sub reddits as well as just generally looking through the news and it's all made me feel overwhelming negative i'd like to sort of detach really and just isolate myself from it all because i just feel tired of it but the interest has in my opinion become obsessive and damaging to make matters worse i was looking to speak to my gp about my anxiety as well as getting a diagnosis for asd and now with everything thats going on i just feel kind of stuck this was mostly to vent but if anyone has any advice could you please share it with me thanks\n",
      "TIRED: first of all the title of the post wasn t meant to be offensive or to glorify mental health disorders mental health disorders are something serious and should be taken seriously if you are not diagnosed and you feel like you suffer any mental health disorder please try to seek professional health i ve recently been diagnosed with adhd by my psychiatrist just when i thought having 3 mental health disorders is bad enough i ve had persistent depressive disorder a severe case of generalized anxiety disorder and bipolar disorder 1 for years now alongside that i m currently being monitored for a personality disorder just when i was making plans and i was taking action to make my mental health better more and more issues just kept on adding up i was planning to study college in japan i was making efforts to help myself more than i was already doing i started meditating i started regulating my sleep i made a schedule i thought it was going smoothly then i got diagnosed with another mental health disorder i know a lot of people have it worse i also know that people have it worse shouldn t be my mindset i m just so lost i was always the reliable friend i was always the class clown type i was always the extroverted and social dude who could socialize and be friends with anyone practically i m a people s person i had a lot of different friend groups back in high school and even at college for most of my life the majority of the people didn t know my mental health disorders i soon realize that as reliable as i can be there are times wherein i m too reliable i would shoulder my friend s problems when i'm already suffering so much without them knowing i would give out motivational sentiments to make them feel better and to help them with their problems when i m having a hard time applying the advice i give out hypocritical i know as much of a class clown type i was there were periods wherein i was so tired that i had to put out a fake smile and laugh like there s no tomorrow as extroverted and social i could be i m an enfp if that matters as much as some people value astrology when picking a partner you do you i sometimes get panic attacks and i end up locking myself inside a restroom cubicle i have so many traumatic experiences and scarring memories that i ve made a google docs file and typed out all of my life regrets and traumatic experiences the amount of issues problems and negative experiences i ve written baffled me then i realized oh i m not even done writing down everything thanks toxic exes toxic past relationships and a toxic asian household ever since 2 years ago i was more vocal about my mental health i m a mental health advocate i ve written new articles and made info graphs about mental health for our university newspaper surprisingly even poems and short stories about mental health and self growth were featured in our university s first literary folio i was able to influence others to seek professional help i was able to reach others who suffer mental health disorders and impact their perspectives with my literary works i was happy that was one of the proudest moments in my life however now i feel so lost i m slowly losing motivation in everything i ve been disconnecting with people i deactivated my social media accounts i haven t chatted with a friend that i ve known for longer than a month for almost a month bars i know i m a lyrical god too if the level of being a god is being better than jake paul i ve been crying constantly and i ve been hiding it from my family knowing my mom she ll use it as a way for me to not continue with my plans on going to japan for my college education as weird as it sounds my emotions are also getting numb again there are times where my emotions are completely amplified and there are times where i feel so numb i feel like i m just baffling at this rate i need to finish up my application forms hopefully i do get the motivation to do so\n",
      "LOOK: this might not make sense to most people i feel like these three words can define my whole life for as long as i can remember i've had trouble making decisions when i was in my teens i was having problems in making decisions important decisions like picking a major or what i want to study as well as easy ones like where do i wanna eat lunch but back then i didn't think much of it as i grew up right after high school is when major changes started to happen in my life i couldn't decide on what to pick for my college education there were times every option seemed doable and there were times when nothing seemed favourable so for most part in my life i do things which are most commonly followed by people thinking that is probably the safest bet as majority of people do it so i got into engineering like most indian kids i simply did it because i didn't know what else to do i was miserable the whole while i was there my grades sucked i had no friends only two people i talked to because we went to college together i didn't like anyone for 4 years of my college i spend my day sitting in class waiting for it to end zoned out absolutely blank i didn't even leave class during lunch breaks i have been living in the same house with my mom my whole life im 23now my father used to work uae for 10 year from when i was in 6th standard to when i finished my graduation i cannot remember much of my childhood days the only thing i remember is my mom and dad fighting and shouting everything is a blurr so much that i can almost remember an incident when my dad was trying to hit my mom with a belt and i held onto it to stop him now i don't know if it was real or i'm just making it up in my head now i'm 23 graduated last year with shitty grades and i'm at my first job for the last 9 months which i couldn't give less fucks about i got this job simply because i didn't know what else to do and came across an ad it doesn't pay much i'm mostly sitting in front of the laptop but it pays the bills now days the indecisiveness has become much more prominent it's like a constant battle in my head about what i should do should i do this should i do that what if i had done this what if it was the other way around i just don't know all i want is to be dead i have been wishing for death for the last 4 years not that i have made any attempts to take my life i have just been hoping to die in any manner no matter how painful just for this miserable life to end i think the only reason i have not killed my self or tried to so far is because i have to support my family now my father is retired and me and my sister are working i am 4 years younger i feel so helpless that i don't even have the option to end my own life because others depend it which somehow seems worse than being dead when you're dead you're just dead it's those around you who have to get through this pain but when you want to die and you know that it's not an option you have to suffer every single day pretending to be normal i have been considering going to therapy for the past two months because it's not a common thing around here to seek therapy if you're from india i think you can relate growing up i didn't even know there's a thing called therapy there's hardly anyone talking about going to therapy but the thing is i don't know i don't know if what i am going through is actually some mental health issue or i am just being overanalytical or exaggerating things i don't know if it's depression dysthymia aboulomania i don't know if going to a therapist would be the best thing since the lockdown i have been looking this stuff up on google and that's where i came across the term aboulomania idk if what i am going through classifies as that and i don't want to call myself depressed because i know there are people going to much much worse is this worth going to therapy all i know is i tell myself that 'i wish i was dead' about 10 times a day i have been feeling this way for the past 4 5years i know that i am scared of everything i don't know if i wanna get better and i don't know why i am even writing this if you have actually read this far i thank you for your patience and if there's someone out there who feels same please hmu\n",
      "WISH: this might not make sense to most people i feel like these three words can define my whole life for as long as i can remember i've had trouble making decisions when i was in my teens i was having problems in making decisions important decisions like picking a major or what i want to study as well as easy ones like where do i wanna eat lunch but back then i didn't think much of it as i grew up right after high school is when major changes started to happen in my life i couldn't decide on what to pick for my college education there were times every option seemed doable and there were times when nothing seemed favourable so for most part in my life i do things which are most commonly followed by people thinking that is probably the safest bet as majority of people do it so i got into engineering like most indian kids i simply did it because i didn't know what else to do i was miserable the whole while i was there my grades sucked i had no friends only two people i talked to because we went to college together i didn't like anyone for 4 years of my college i spend my day sitting in class waiting for it to end zoned out absolutely blank i didn't even leave class during lunch breaks i have been living in the same house with my mom my whole life im 23now my father used to work uae for 10 year from when i was in 6th standard to when i finished my graduation i cannot remember much of my childhood days the only thing i remember is my mom and dad fighting and shouting everything is a blurr so much that i can almost remember an incident when my dad was trying to hit my mom with a belt and i held onto it to stop him now i don't know if it was real or i'm just making it up in my head now i'm 23 graduated last year with shitty grades and i'm at my first job for the last 9 months which i couldn't give less fucks about i got this job simply because i didn't know what else to do and came across an ad it doesn't pay much i'm mostly sitting in front of the laptop but it pays the bills now days the indecisiveness has become much more prominent it's like a constant battle in my head about what i should do should i do this should i do that what if i had done this what if it was the other way around i just don't know all i want is to be dead i have been wishing for death for the last 4 years not that i have made any attempts to take my life i have just been hoping to die in any manner no matter how painful just for this miserable life to end i think the only reason i have not killed my self or tried to so far is because i have to support my family now my father is retired and me and my sister are working i am 4 years younger i feel so helpless that i don't even have the option to end my own life because others depend it which somehow seems worse than being dead when you're dead you're just dead it's those around you who have to get through this pain but when you want to die and you know that it's not an option you have to suffer every single day pretending to be normal i have been considering going to therapy for the past two months because it's not a common thing around here to seek therapy if you're from india i think you can relate growing up i didn't even know there's a thing called therapy there's hardly anyone talking about going to therapy but the thing is i don't know i don't know if what i am going through is actually some mental health issue or i am just being overanalytical or exaggerating things i don't know if it's depression dysthymia aboulomania i don't know if going to a therapist would be the best thing since the lockdown i have been looking this stuff up on google and that's where i came across the term aboulomania idk if what i am going through classifies as that and i don't want to call myself depressed because i know there are people going to much much worse is this worth going to therapy all i know is i tell myself that 'i wish i was dead' about 10 times a day i have been feeling this way for the past 4 5years i know that i am scared of everything i don't know if i wanna get better and i don't know why i am even writing this if you have actually read this far i thank you for your patience and if there's someone out there who feels same please hmu\n",
      "TIRED: this might not make sense to most people i feel like these three words can define my whole life for as long as i can remember i've had trouble making decisions when i was in my teens i was having problems in making decisions important decisions like picking a major or what i want to study as well as easy ones like where do i wanna eat lunch but back then i didn't think much of it as i grew up right after high school is when major changes started to happen in my life i couldn't decide on what to pick for my college education there were times every option seemed doable and there were times when nothing seemed favourable so for most part in my life i do things which are most commonly followed by people thinking that is probably the safest bet as majority of people do it so i got into engineering like most indian kids i simply did it because i didn't know what else to do i was miserable the whole while i was there my grades sucked i had no friends only two people i talked to because we went to college together i didn't like anyone for 4 years of my college i spend my day sitting in class waiting for it to end zoned out absolutely blank i didn't even leave class during lunch breaks i have been living in the same house with my mom my whole life im 23now my father used to work uae for 10 year from when i was in 6th standard to when i finished my graduation i cannot remember much of my childhood days the only thing i remember is my mom and dad fighting and shouting everything is a blurr so much that i can almost remember an incident when my dad was trying to hit my mom with a belt and i held onto it to stop him now i don't know if it was real or i'm just making it up in my head now i'm 23 graduated last year with shitty grades and i'm at my first job for the last 9 months which i couldn't give less fucks about i got this job simply because i didn't know what else to do and came across an ad it doesn't pay much i'm mostly sitting in front of the laptop but it pays the bills now days the indecisiveness has become much more prominent it's like a constant battle in my head about what i should do should i do this should i do that what if i had done this what if it was the other way around i just don't know all i want is to be dead i have been wishing for death for the last 4 years not that i have made any attempts to take my life i have just been hoping to die in any manner no matter how painful just for this miserable life to end i think the only reason i have not killed my self or tried to so far is because i have to support my family now my father is retired and me and my sister are working i am 4 years younger i feel so helpless that i don't even have the option to end my own life because others depend it which somehow seems worse than being dead when you're dead you're just dead it's those around you who have to get through this pain but when you want to die and you know that it's not an option you have to suffer every single day pretending to be normal i have been considering going to therapy for the past two months because it's not a common thing around here to seek therapy if you're from india i think you can relate growing up i didn't even know there's a thing called therapy there's hardly anyone talking about going to therapy but the thing is i don't know i don't know if what i am going through is actually some mental health issue or i am just being overanalytical or exaggerating things i don't know if it's depression dysthymia aboulomania i don't know if going to a therapist would be the best thing since the lockdown i have been looking this stuff up on google and that's where i came across the term aboulomania idk if what i am going through classifies as that and i don't want to call myself depressed because i know there are people going to much much worse is this worth going to therapy all i know is i tell myself that 'i wish i was dead' about 10 times a day i have been feeling this way for the past 4 5years i know that i am scared of everything i don't know if i wanna get better and i don't know why i am even writing this if you have actually read this far i thank you for your patience and if there's someone out there who feels same please hmu\n",
      "WISH: so last night i was at a little party and i decided to suggest a song normally i don't speak up like that but another song reminded me of this one and i wanted to see if anyone knew the song i'm a few 5ish years older than the rest of that friend group and i enjoy examining the slight generational differences between us so i suggest the song i didn't explain my reasoning very well no one recognized it it was a kind of weird song and no one really enjoyed it and it kind of killed the mood for a minute the girl playing the music said she didn't like it and switched it back and that was it or should have been it was kinda awkward for a moment but people moved on quick no big deal right my anxiety will not let it go seriously i just can't stop thinking about it you ruined the night they hated it they think you're weird they don't want to hang out with you anymore you should never have said anything no one likes you you're an outsider you should self harm because of this etc i could go on forever it's bad i always do this i do something wrong or awkward or whatever when socializing and then obsess over it for days weeks sometimes is bothers me years after i can't stop the obsessive self hating thoughts it's like logically i know it's not as big of a deal as i think they've probably all but forgotten but i might have permanently left a bad impression and it's mortifying i wish i could just let it go edit wow thanks guys for all of the support i think this is my first post that's ever gotten more than 100 upvotes i really appreciate it the way i kind of see it is my mind has two halves the healthy logical half and the sick half the healthy half knows that really it wasn't that big of a deal and likely no one's even remembers now or cares now it just has to convince the other half of that so yea thanks for all you've said you've given the healthy half a bit more ammunition to use\n",
      "LOOK: so i ve been having a weird anxious episode today at least that s what i call them and just realized that i m really tired of my mindset when it comes to myself if that makes any sense the thing is i was supposed to go study abroad from september which has been my dream for a couple of years now while i was waiting for the results i was fine and excited and worried what would happen if they rejected me but as soon as i got the good news that i was accepted i started outright panicking every day with stupid thoughts coming to mind what if i go there and fail classes what if i don t like it get sick don t meet any friends it went as far as thinking about some soo specific problems which i am aware are unlikely to happen suddenly i was so overwhelmed everything became a problem and all of the good things i was looking forward didn t matter to my brain then a couple of days ago i got the news that due to corona my first semester will be online and i ll be doing it from home with this news i was thinking more clearly again and started looking forward to going the thing is i notice i do this in different areas of my life but this situation made me realize how much i feel like i m sabotaging myself in succeeding and accomplishing my goals was is anyone in a similar situation i m trying hard not to self diagnose myself but i really want to try and fix this\n",
      "TIRED: so i ve been having a weird anxious episode today at least that s what i call them and just realized that i m really tired of my mindset when it comes to myself if that makes any sense the thing is i was supposed to go study abroad from september which has been my dream for a couple of years now while i was waiting for the results i was fine and excited and worried what would happen if they rejected me but as soon as i got the good news that i was accepted i started outright panicking every day with stupid thoughts coming to mind what if i go there and fail classes what if i don t like it get sick don t meet any friends it went as far as thinking about some soo specific problems which i am aware are unlikely to happen suddenly i was so overwhelmed everything became a problem and all of the good things i was looking forward didn t matter to my brain then a couple of days ago i got the news that due to corona my first semester will be online and i ll be doing it from home with this news i was thinking more clearly again and started looking forward to going the thing is i notice i do this in different areas of my life but this situation made me realize how much i feel like i m sabotaging myself in succeeding and accomplishing my goals was is anyone in a similar situation i m trying hard not to self diagnose myself but i really want to try and fix this\n",
      "LOOK: i have bipolar i which comes with a side of paranoia and aggression usually i'm have rather paranoid thoughts about people most of whom haven't really done anything wrong i take the slightest percieved slight and my mind obsesses about it a day often i'll catch myself obssesing over this thing that happened 7 years ago and stop before it festers it's really been affecting my social life and my mental health i'm scared to meet new people or go anywhere because i don't want to act rude or seem like an asshole i hate the feeling as if my mind is holding a hot poker and won't let go i keep replaying that same memory in my mind on repeat basically if you think my bipolar paranoia is annoying i actually have to live with it i have a hair trigger temper often times i find myself being prickly and angry over quite literally no reason sometimes i'll catch people being a little anxious around me and i have to forcibly relax my body language and posture i don't even know that i'm doing it which makes me feel scared of myself because i snap i feel like a rabid dog always becoming angry at the slightest thing the majority of the time i notice that i'm angry and forcibly try to let it go i'm constantly questioning my myself was i being too harsh was that person actually mean to me or is it my paranoia talking i'm always gaslighting myself because i can't believe my perception of reality i'm usually really nice and sweet and love talking to people and getting out my house i don't want to be percieved as an angry person but i'm giving out aggressve vibes i'm afraid to meet new people in fear that i'm going come off like a dick for example i just had a conversation with my mother's fiancee about her behvaior toward us confusing i know i spoke for hours but i can be rather defensive and when we finished he gave me a strained smile the only way i can tell how my behavior affects people by their social cues i try to remind myself that it's not me just my screwed up mental health speaking what's the difference between a good person that does bad things and a bad person that does bad things absolutely nothing because the result is still the same i'm afraid that my petty anger papssive aggressive actions are going to fester into real physical things then again because my reality is so warped i could be overally harsh on myself my self esteem is already through the grounnd and this took an extra hit i feel like a monster half the time because i'm fooling people with my looks until they see who i really am of course i'm on a chock full of medcine and i feel a lot better than how i was before i stopped hearing and seeing voice which is a relief hallucinations are like being trapped in paranormal activity or maybe having a really bad drug trip it's not fun needless to say i'm on 400 mg on seroquel plus 300 on limotrigine for depression seroquel had all the subtlety of a rock and i hate the drugged up groggy state it leaves me in to be quite honest i've been taking lower dosages than prescribed just because i hate the feeling with seroquel you can't wake up until it's completely out of your system i would be in a seroquel induced haze where i could'nt wake up i know i know self medication is a terrible idea and i need to take medicine as prescribed for my medical health i just feel under seroquel my mental clarity and reading comprehension went through the ground i used to be a creative writer and won a gold key in scholastics so it's safe to say that i'm good at writing there was a moment where i was reading a book and i truly had no idea what it said i knew each indiviudal word and its' meaning but when i put them all together i could'nt understand my short term memory has been shot especially when it comes to names i had an incident where the owner of my store basically embarassed me in front of the entire store because seriously you don't remember my name do you know who i am i'm the owner c'mon we've met like 5 times needless to say my self esteem is shot through the ground i used to consider myself as a smart person and i used to love reading books now i can barely get through one paragraph and i'll forget to spell common words like transformation that was a very specific example but whatever people always say you need to be alive to be happy i don't know if i want to be alive and watch my mental health decline until i'm a husk of who i was before or choose death and hope there's an afterlife on a positive note i'm seeing a therapist next week so i can release years worth of trauma to my poor therapist having a dog forcing me to go outside and take him for a walk so that's nice even though seroquel is a bitch i feel my depression subsided and now i can talk my dog out for a walk i wanna hear everyone's experiences with mental health cause it's nice not to be alone\n",
      "LOOK: content warning if you struggle with an ed i guess i m f18 and i ve been really skinny for as long as i can remember i m 5 6 and the most i ve ever weighed is 118 no matter how much i eat i usually sit around 110 i m a 28aa if that s even a cup size i think it s a mixture of inheriting my moms super fast metabolism stress mental health a lack of exercise whatever i got sick last month and lost 10 pounds in a week because i couldn t eat and watching myself wither and get even smaller hurt my brain a lot i ve never been happy with the way i look and i ve always been bullied and teased for being skinny or flat people call me a little boy a skeleton young man they ask if i m anorexic ask if my parents starve me if i m sick ask where my boobs went they tell me to put some meat on my bones i should eat more because it s scary say no guy will want to be with me because it d be like sleeping with a skeleton regularly get told how flat my ass is i m built like a board etc etc i m just the butt of a lot of jokes and i don t know why because i never joke about other people s bodies yesterday i was at a pool party and got comments about my body 3 different times just for existing it s so hard for me to find clothes that fit right i get so frustrated every time i go shopping that i end up crying in the fitting rooms i wear a lot of baggy clothes because i feel comfortable and hidden i can t wear most types of swimsuits because i don t have boobs pants don t fit my waist ever my hip bones stick out 2 inches my stomach is concave and you can count every rib when i breathe in my spine sticks out so much i look ugly in everything i wear my prom dress barely fit me i can t feel feminine or desirable at all anymore i can barely stand to look at myself in the mirror anymore because i just look so sickly and stick thin and ugly i m healthy and i know i eat enough but it just doesn t go anywhere i ve started counting calories religiously to make sure i get over 2000 i ve started religiously paying attention to fat contents carbs and i m considering just force feeding myself more food throughout the day i want so badly to be a pretty girl all i want is to be beautiful and feminine and pretty i want to look good in tops and not see my bones anymore i feel so ugly and undesirable that i consider s icide a lot i know it s shallow and that i should love myself and i really do try i buy clothes that suit my body type as best i can but then somebody reminds me how skinny i am or makes a joke about me and it just reminds me that i m gross to look at sorry to anybody that had to read this i just needed to talk about it somewhere\n",
      "WISH: i'm a 16 year old girl from holland so i'm sorry if my english is not so good i just wanna vent my rambling disjointed thoughts to someone and would like to hear other people's thoughts about it for i think perhaps a year maybe more i have been struggling with negative thoughts about suicide i have been seeing a therapist for them but they seem to have slightly increased so i want to vent here at the end i sum everything up in one sentence i have always felt that there's no reason for me to be depressed i come from a reasonably wealthy family my parents provide me food shelter and electricity they don't abuse me and care a lot about me i go to a decent school where my classmates are pretty nice to me most of the time my colleagues at my job ignore me but help me when i ask for it but one of the reasons that i have these thoughts is that i feel so alone while i have a good family and nice classmates i don't have a strong connection with any of them i guess you could say that i have no friends when i would really like one one to just talk about things i'm interested in one to just do fun things with one to do homework with etc i could try to talk with my classmates about things i like but i'm afraid when they get to know me they will be as disappointed in me as i am and avoid me there's also the fact that i have mild autism which makes it very difficult for me to interact with people some girls at my school do sort of include me and work with me for a schoolproject but we are by no means friends or anything just classmates furthermore i feel like i'm not really good at anything the only thing that i'm good at is learning for school tests i always get decent to high grades and while i love learning new things and getting high grades but that's the only thing i can and who says that's gonna last when i get to college and the work force when everything is going to get harder what if i fail and ruin my future and will never be able to accomplish anything and because i'm not good at anything i don't think i will me able to contribute something to the world i don't expect to do something amazing like gandhi or einstein my biggest desire is to help people or humanity in some sort of way partly because i want to feel better about myself but also because i don't want to see people suffer i wish i could but what if i'm not able to do that do i deserve to go on living i know i'm pretty young but when i think of all poor children in africa i feel very guilty for wanting to watch a tv series on netflix to distract myself from my negative thougts but also for personal enjoyment and wish i could help them in any sort of way at last i just don't feel like living anymore i used to love watching tv series and reading books that used to help me distract myself from thoughts about how worthless i am but now when i try to watch an episode of a show i pause one minute in when i try reading a book i don't reach the third sentence before putting it away when i force myself to continue working on a schoolproject which sometimes doesn't work due to the fact that i find it hard to concentrate i put it aside two minutes later feeling too tired and just listen to music instead while i browse reddit sometimes i don't get out of bed for hours til online school starts or don't shower for days because i just don't see the point of it if you have managed to read all of that i sincerely thank you if not then i have a lot of negative thoughts because i isolate myself because i'm afraid people will judge me for my interests i'm not good at anything i will not be able to contribute anything to the world or help anyone i feel guilty for feeling this way and i just don't want to continue living anymore i would appreciate it if you could perhaps share your thoughts with me but don't feel pressured\n",
      "TIRED: i'm a 16 year old girl from holland so i'm sorry if my english is not so good i just wanna vent my rambling disjointed thoughts to someone and would like to hear other people's thoughts about it for i think perhaps a year maybe more i have been struggling with negative thoughts about suicide i have been seeing a therapist for them but they seem to have slightly increased so i want to vent here at the end i sum everything up in one sentence i have always felt that there's no reason for me to be depressed i come from a reasonably wealthy family my parents provide me food shelter and electricity they don't abuse me and care a lot about me i go to a decent school where my classmates are pretty nice to me most of the time my colleagues at my job ignore me but help me when i ask for it but one of the reasons that i have these thoughts is that i feel so alone while i have a good family and nice classmates i don't have a strong connection with any of them i guess you could say that i have no friends when i would really like one one to just talk about things i'm interested in one to just do fun things with one to do homework with etc i could try to talk with my classmates about things i like but i'm afraid when they get to know me they will be as disappointed in me as i am and avoid me there's also the fact that i have mild autism which makes it very difficult for me to interact with people some girls at my school do sort of include me and work with me for a schoolproject but we are by no means friends or anything just classmates furthermore i feel like i'm not really good at anything the only thing that i'm good at is learning for school tests i always get decent to high grades and while i love learning new things and getting high grades but that's the only thing i can and who says that's gonna last when i get to college and the work force when everything is going to get harder what if i fail and ruin my future and will never be able to accomplish anything and because i'm not good at anything i don't think i will me able to contribute something to the world i don't expect to do something amazing like gandhi or einstein my biggest desire is to help people or humanity in some sort of way partly because i want to feel better about myself but also because i don't want to see people suffer i wish i could but what if i'm not able to do that do i deserve to go on living i know i'm pretty young but when i think of all poor children in africa i feel very guilty for wanting to watch a tv series on netflix to distract myself from my negative thougts but also for personal enjoyment and wish i could help them in any sort of way at last i just don't feel like living anymore i used to love watching tv series and reading books that used to help me distract myself from thoughts about how worthless i am but now when i try to watch an episode of a show i pause one minute in when i try reading a book i don't reach the third sentence before putting it away when i force myself to continue working on a schoolproject which sometimes doesn't work due to the fact that i find it hard to concentrate i put it aside two minutes later feeling too tired and just listen to music instead while i browse reddit sometimes i don't get out of bed for hours til online school starts or don't shower for days because i just don't see the point of it if you have managed to read all of that i sincerely thank you if not then i have a lot of negative thoughts because i isolate myself because i'm afraid people will judge me for my interests i'm not good at anything i will not be able to contribute anything to the world or help anyone i feel guilty for feeling this way and i just don't want to continue living anymore i would appreciate it if you could perhaps share your thoughts with me but don't feel pressured\n"
     ]
    }
   ],
   "source": [
    "count = 0\n",
    "for i in vent_df[\"body\"]:\n",
    "    if \"look\" in i:\n",
    "        count+=1 \n",
    "        print(\"LOOK: \" + i)\n",
    "    if \"wish\" in i:\n",
    "        print(\"WISH: \" + i)\n",
    "        count+=1\n",
    "    if \"tired\" in i:\n",
    "        print(\"TIRED: \" + i)\n",
    "        count+=1\n",
    "    if count == 30:\n",
    "        break\n"
   ]
  },
  {
   "cell_type": "markdown",
   "id": "8ca03b9d",
   "metadata": {},
   "source": [
    "#### Words like living, wish, maybe, place, mother, and dad appear in the set of top words found in Venting posts that are not in the top set of words found in Need Support posts. \n",
    "\n",
    "#### Venting posts more often reference a family member or close relationship. Additionally, venting posts are more likely to contain expletive or deragotory. "
   ]
  },
  {
   "cell_type": "code",
   "execution_count": 47,
   "id": "acc1385f",
   "metadata": {},
   "outputs": [
    {
     "name": "stdout",
     "output_type": "stream",
     "text": [
      "{'therapist', 'advice', 'therapy', 'please', 'old', 'night', 'relationship', 'lost', 'recently'}\n"
     ]
    }
   ],
   "source": [
    "unique_ns_top = set(ns_top_150.keys()).difference(set(vent_top_150.keys()))\n",
    "print(unique_ns_top)"
   ]
  },
  {
   "cell_type": "code",
   "execution_count": 48,
   "id": "19b59f9a",
   "metadata": {},
   "outputs": [],
   "source": [
    "unique_ns_count = {}\n",
    "vent_counter = {}\n",
    "for val in unique_ns_top:\n",
    "    unique_ns_count[val] = ns_top_150[val]\n",
    "    if vent_dict[val]:\n",
    "        vent_counter[val] = vent_dict[val]\n",
    "    else:\n",
    "        vent_counter[val] = 0"
   ]
  },
  {
   "cell_type": "code",
   "execution_count": 49,
   "id": "2ae743f7",
   "metadata": {},
   "outputs": [],
   "source": [
    "unique_ns_count = dict(sorted(unique_ns_count.items(), key=itemgetter(1), reverse=True))"
   ]
  },
  {
   "cell_type": "code",
   "execution_count": 50,
   "id": "300d83a3",
   "metadata": {},
   "outputs": [
    {
     "data": {
      "image/png": "[encoded data removed]",
      "text/plain": [
       "<Figure size 1800x432 with 1 Axes>"
      ]
     },
     "metadata": {
      "needs_background": "light"
     },
     "output_type": "display_data"
    }
   ],
   "source": [
    "x_ns = unique_ns_count.keys()\n",
    "y_ns = unique_ns_count.values()\n",
    "\n",
    "x_vent = vent_counter.keys()\n",
    "y_vent = vent_counter.values() \n",
    "x = range(len(x_vent))\n",
    "bar_width = 0.35\n",
    "# Plot the grouped bars\n",
    "plt.figure(figsize=(25, 6))\n",
    "plt.bar(x, y_ns, width=bar_width, label='Top Unique Need Support Words')\n",
    "plt.bar([i + bar_width for i in x], y_vent, width=bar_width, label='Corresponding Venting Words')\n",
    "\n",
    "# Add labels and title\n",
    "plt.xlabel('Features')\n",
    "plt.ylabel('Frequency')\n",
    "plt.title('Top Unique Need Support Word Frequencies and Their Corresponding Venting Frequencies')\n",
    "plt.xticks([i + bar_width/2 for i in x], x_ns)  # Center x ticks between the bars\n",
    "plt.legend()\n",
    "# Show the plot\n",
    "plt.show()"
   ]
  },
  {
   "cell_type": "code",
   "execution_count": 51,
   "id": "0a43fc5b",
   "metadata": {},
   "outputs": [
    {
     "data": {
      "image/png": "[encoded data removed]",
      "text/plain": [
       "<Figure size 432x288 with 1 Axes>"
      ]
     },
     "metadata": {
      "needs_background": "light"
     },
     "output_type": "display_data"
    }
   ],
   "source": [
    "word_ns = list(x_ns)\n",
    "count_ns = list(y_ns)\n",
    "word_vent = list(x_vent)\n",
    "count_vent = list(y_vent)\n",
    "\n",
    "bar_width = 0.35\n",
    "bar_positions_ns = np.arange(len(word_ns))\n",
    "bar_positions_vent = bar_positions_ns + bar_width\n",
    "\n",
    "\n",
    "plt.barh(bar_positions_ns, count_ns, height=bar_width, color='blue', label='NS Words')\n",
    "plt.barh(bar_positions_vent, count_vent, height=bar_width, color='orange', label='Vent Words')\n",
    "plt.yticks(bar_positions_ns + bar_width / 2, word_ns)\n",
    "plt.xlabel('Count')\n",
    "plt.ylabel('Words')\n",
    "plt.title('Top Unique Need Support Words And Corresponding Venting Count')\n",
    "plt.legend()\n",
    "plt.show()"
   ]
  },
  {
   "cell_type": "code",
   "execution_count": 52,
   "id": "5ec42bbc",
   "metadata": {},
   "outputs": [
    {
     "name": "stdout",
     "output_type": "stream",
     "text": [
      "NIGHT: hi i am a 23 year old male doing an it job as a programmer lately work load has increased drastically but i can keep up with it but its just too much stressfull situations on every single day i recently broke up with my girlfriend on jan 2020 still then i am not able to recover from it evey now and then i will think of her and imagine what could bring her back she has no mood to come back what's so ever due to covid 19 all the situations became dramatically sad enough i am sole bread earner in my family so quitting this job is not an option from last three months i have been feeling so so so low it's like too much emptiness inside of me i tried to distract myself by watching anime and web series but it's just temporary distraction i also lost track of my health not eating enough porn addiction family cannot help me in this situation because they are already feeling low as they lost their jobs due to covid 19 i am feeling very low day by day for myself i do cry a lot in my bed in my room at night and in night this feelings took over and i end up sleeping late and not getting enough sleep if someone can guide me through this it's like i am drowning in my thoughts please help\n",
      "NIGHT: hello first of all thank you for reading to make a very long story short last year i went out for my birthday and on my uber ride back home i witnessed a man on a bike get hit by a drunk driver running a red light going over 70 mph the only people there were me and my uber driver the drunk driver never slowed down and was later caught and has been on trial this whole time so my uber driver blocked the street off and called 911 and i ran over to see if i could help the guy that was hit i have seen many people die online out of morbid curiosity and to prepare myself for if i ever saw it in real life and what i saw that night i was in no way prepared for i had been drinking but sobered up immediately the bicyclist was killed instantly his body had landed well over 100 feet from where he was hit i could go into detail about what it looked like in the comments if you would like when this happened i was broke and already at a low point in my life and to top it off we stayed for the investigation for 3 hours before the police released us i had no money lived 9 miles away the uber driver wanted to go straight home to his family the cops wouldn't give me a ride and no one answered their phone at this time its 5am sunday morning so i walked all 9 miles home bawling my eyes out i've talked very openly to friends who sort of just say wow that's crazy or i couldn't imagine what that is like they mean well but i feel like my cries for help fall on deaf ears i don't have insurance and decided to pay out of pocket for therapy i had 2 sessions with 2 different therapists and they both told me that whenever i'm feeling happy to think about that night seems counter productive for me and i've expressed that to both of them i know there is no miracle that's just going to erase that night out of my mind but do any of you have recommendations on where to begin or what to look for when finding a therapist the mother of the man that was killed reached out to me last month and i ended up meeting her last week to kind of talk about who her son was as a person and know more about him it was a very heavy day but i think it was good for the both of us once again thank you listening i appreciate it\n",
      "THERAPY :hello first of all thank you for reading to make a very long story short last year i went out for my birthday and on my uber ride back home i witnessed a man on a bike get hit by a drunk driver running a red light going over 70 mph the only people there were me and my uber driver the drunk driver never slowed down and was later caught and has been on trial this whole time so my uber driver blocked the street off and called 911 and i ran over to see if i could help the guy that was hit i have seen many people die online out of morbid curiosity and to prepare myself for if i ever saw it in real life and what i saw that night i was in no way prepared for i had been drinking but sobered up immediately the bicyclist was killed instantly his body had landed well over 100 feet from where he was hit i could go into detail about what it looked like in the comments if you would like when this happened i was broke and already at a low point in my life and to top it off we stayed for the investigation for 3 hours before the police released us i had no money lived 9 miles away the uber driver wanted to go straight home to his family the cops wouldn't give me a ride and no one answered their phone at this time its 5am sunday morning so i walked all 9 miles home bawling my eyes out i've talked very openly to friends who sort of just say wow that's crazy or i couldn't imagine what that is like they mean well but i feel like my cries for help fall on deaf ears i don't have insurance and decided to pay out of pocket for therapy i had 2 sessions with 2 different therapists and they both told me that whenever i'm feeling happy to think about that night seems counter productive for me and i've expressed that to both of them i know there is no miracle that's just going to erase that night out of my mind but do any of you have recommendations on where to begin or what to look for when finding a therapist the mother of the man that was killed reached out to me last month and i ended up meeting her last week to kind of talk about who her son was as a person and know more about him it was a very heavy day but i think it was good for the both of us once again thank you listening i appreciate it\n",
      "NIGHT: so this is very difficult for me to talk about and i usually tend to keep it to myself but i need help this time so my big brother has a mental illness which is resulted from him being treated as different in school and many other factors which led to him being unable to become a normal human being to elaborate more about it my brother has been weird since he was a child which in my opinion is normal but society where i life didn't like that and he was bullied alot in school one of the most impactful events in his life was in high school when he was the only student who wasn't allowed by his fellow students to compete in a school football tournament and this was like a big turning point where my father started to realize that his son was not normal i partially blame my dad for not being there for him and my mom also for taking literally everything he says as exaggeration but in general they are good people just bad parents so since that time my brother was broken and wanted to commit suicide in several occasions and me being the stupid fucking kid i didn't realize at the time that he was suffering although i would have never been able to help since my dad painted a picture of me being this toddler since i'm 5 years younger than my brother so he never took me seriously you would think that this was enough for my dad to take him to a psychiatrist but no my dad didn't see that this was not okay then came senior year in highschool which is a nightmare for everyone tbh but it was especially difficult for my brother my dad has always given us this idea of him being an over the top albert einstein so my brother aspired to be the same but my brother isn't so bright so this year broke him again where he deliberately failed all his exams due to him losing a few marks in the first exam so that's obviously when my dad knew that my brother wasn't normal ofcourse after shouting at him and making matters worse next year he graduated from high school and moved out to college i was so happy for him and thought that he would get better after leaving the shithole which is the school but little did i know that this didn't help him at all all what was going through his head was that he wanted to go back in time and insist on entering the football tournament and my dad being a religious man he was furious about that and saw it as blasphemy which of course as all the actions my dad takes was not the best after he finished college and my dad hooked him up with a job at a hotel not his speciality but whatever i was extremely happy about it my dad thought that the mind numbing meds the psychiatrist was prescribing and him getting a job was enough for him to be normal but it actually made matters worse because i later find out that he hates his job but acts as if he loves it just so my dad doesn't get mad at him now we are here after he's been let go due to corona virus and for the first time in years we are living together i've moved out for college as well so we didn't really live together anymore but i can tell that he is in his worst states ever i just needed to talk to people anonymously about it and just see if anyone can give me advice since i am a child to my parents i have no right to say anything but i intend to take care of my brother as long as i live after my parents are not here anymore and i will do my best to make him love life and feel happy thank you to whoever reached this far and i appreciate anything that you have to say\n",
      "NIGHT: i wake up every 5 minutes from a gunshot to the head in my dreams or me jumping off a building and going head first into pavement over and over every time i fall back asleep it's the same dream every night marajuana causes me not to dream but i think after 10 years its causing me other health problems so i'm trying to stop again and the dreams are coming back please help what can i do\n",
      "THERAPY :back in december 2019 i was nearly strangled to death by my best friend i decided not to press charges so i don t need legal advice she had a psychotic break and i know that it wasn t her doing it i m no longer in contact with her but it left a mountain of trauma every time someone gives me a certain look talks to me in a specific tone or if i find myself in a vulnerable position around someone even my so or my 11 y o brother i instantly fear for my life and go into fight or flight i come up with complex escape plans or ways to defend myself in a matter of seconds i don t want to feel this way anymore i m so tired of it i ve done therapy and they tried to get me on antidepressants but they made me feel worse and i wasn t myself just a zombie i don t want to lose myself just to feel better but i m having a hard time healing from the events of the last few months on top of that situation i got kicked out of my old roommates place in february because i stopped paying for their drugs so i was dealing with trauma and then suddenly displaced i m hoping to heal when i move in with my so in 3 weeks but i m worried it won t be enough edit i used to call the oregon teen youth line when i was dealing with abuse from my dad but i m 20 now and can no longer call them i am in the united states and would appreciate free counseling resources like hotlines and such but i m not suicidal so not that one\n",
      "NIGHT: quarantine has been pretty rough and a lot of issues i ve had for awhile took a turn for the worse i am considering looking into therapy when i go back to uni in the fall but most people around me seem to dismiss most of my problems as normal so i m not sure if i m just minimizing them to others or alternatively just freaking out for no reason um in no particular order here we go i have really bad stomach pain and i m pretty sure it comes from anxiety i ve had it for years and i was recently referred to an ibs specialist though every time i have a flare up a few hours to a few weeks of pain bloating etc it s usually in times of increased stress not caused by specific foods that being said i eat a really healthy diet more on that in a bit so i might just not be eating foods bad enough to trigger it lol idk i struggle with body dysmorphia disordered eating i started calorie counting almost a year ago and i haven t been able to stop i feel super guilty if i go over my limit for the day and go to bed hungry every night there s lots of foods i basically will never eat can t remember the last time i had cake rip or i will limit myself to like one tiny piece i get anxious eating things i don t know the calories of so i avoid those too even if they are healthy i never think i m thin enough even though i m practically underweight i ve always been like this though the most drastic weight loss i ve ever had was like 8 9 lbs my little sister is thinner than me and this is so bad but i get so jealous of her sometimes and encourage her to get more sugary snacks when we go out i m so ashamed oh my goodness i can t believe i m actually posting this it s not her specifically though whenever i m out with friends getting food or whatever i usually try and eat the least healthiest otherwise i feel guilty i m not being as good as them i also tie way to much of my self worth into my appearance i haven t been able to sleep normally in weeks i m always tired but i can hardly sleep for more than 1 3 hrs at a time like all i want to do is sleep because nothing interests me and i just want the day to be over with so i d go to bed at like 10 30 11pm ish wake up 12 45 wake up at 3 wake up at 5 30 and be up for good by like 6 15 sometimes it ll take me upwards of an hr to fall back asleep and i have to play music and stuff i also nap during the day bc i m bored which doesn t help but i don t actually sleep most of the time like i just lie in my bed face down on the pillow listening to music for 45 min i am really stressed all the time and i procrastinate a ton if i have to send an email or something i ll just feel sick with anxiety and wait until the last possible moment to send it not always but too much or if a friend reaches out to me over text i m comfortable texting like 3 people so even if it s a really good friend that i just don t text much i m soo anxious i will be nervous about the idea of having a convo so i ll just kind of panic and never respond it s so dumb because i do it for literally no reason i m also just sad and irritable all the time like the only time i m really happy is when i m distracted talking to my friends reading or watching tv i am kind of fidgety i crack my knuckles i obsessively pick at my nail beds until they bleed bandaids on 8 fingers rn rip i also chew gum all day long 35 sticks a day easy i pick my fingers more when i run out of gum am stressed so i think they re related as like fidgety behaviors i get distracted super easily and have a really hard time paying attention in class i never had any trouble in school but not many of classes were lecture based and the ones that were usually weren t difficult enough for me to have to actually follow along but wow college was a rude awakening i am alright at teaching myself and my gpa is fine but my freshman yr rising sophomore now was an experience like i would try and take notes but i d get stressed about how to format them and then get frustrated and give up just doing hw and studying on my own when i am copying material from a slide i process literally nothing i have to try and do the problem work out the concept first so it wasn t even like the notes were helping anyways usually i have to be doing multiple things like listening to music and reading stupid example sorry mostly though it manifests in my hands needing to be busy or it just feels weird sometimes though i get super focused on a particular thing like if i get totally zoned in while i m writing and i can just do it for hours when this happens i either disconnect with my surroundings ex don t notice i m in an uncomfortable position and end up straining my neck or something or get like super irritated by any noises or interruptions come to think of it it s usually a mix of both but it s also important to note this hyper focusing doesn t happen very often maybe like once a week ish whoa that was long thanks for reading this far but yeah should i consider therapy\n",
      "THERAPY :quarantine has been pretty rough and a lot of issues i ve had for awhile took a turn for the worse i am considering looking into therapy when i go back to uni in the fall but most people around me seem to dismiss most of my problems as normal so i m not sure if i m just minimizing them to others or alternatively just freaking out for no reason um in no particular order here we go i have really bad stomach pain and i m pretty sure it comes from anxiety i ve had it for years and i was recently referred to an ibs specialist though every time i have a flare up a few hours to a few weeks of pain bloating etc it s usually in times of increased stress not caused by specific foods that being said i eat a really healthy diet more on that in a bit so i might just not be eating foods bad enough to trigger it lol idk i struggle with body dysmorphia disordered eating i started calorie counting almost a year ago and i haven t been able to stop i feel super guilty if i go over my limit for the day and go to bed hungry every night there s lots of foods i basically will never eat can t remember the last time i had cake rip or i will limit myself to like one tiny piece i get anxious eating things i don t know the calories of so i avoid those too even if they are healthy i never think i m thin enough even though i m practically underweight i ve always been like this though the most drastic weight loss i ve ever had was like 8 9 lbs my little sister is thinner than me and this is so bad but i get so jealous of her sometimes and encourage her to get more sugary snacks when we go out i m so ashamed oh my goodness i can t believe i m actually posting this it s not her specifically though whenever i m out with friends getting food or whatever i usually try and eat the least healthiest otherwise i feel guilty i m not being as good as them i also tie way to much of my self worth into my appearance i haven t been able to sleep normally in weeks i m always tired but i can hardly sleep for more than 1 3 hrs at a time like all i want to do is sleep because nothing interests me and i just want the day to be over with so i d go to bed at like 10 30 11pm ish wake up 12 45 wake up at 3 wake up at 5 30 and be up for good by like 6 15 sometimes it ll take me upwards of an hr to fall back asleep and i have to play music and stuff i also nap during the day bc i m bored which doesn t help but i don t actually sleep most of the time like i just lie in my bed face down on the pillow listening to music for 45 min i am really stressed all the time and i procrastinate a ton if i have to send an email or something i ll just feel sick with anxiety and wait until the last possible moment to send it not always but too much or if a friend reaches out to me over text i m comfortable texting like 3 people so even if it s a really good friend that i just don t text much i m soo anxious i will be nervous about the idea of having a convo so i ll just kind of panic and never respond it s so dumb because i do it for literally no reason i m also just sad and irritable all the time like the only time i m really happy is when i m distracted talking to my friends reading or watching tv i am kind of fidgety i crack my knuckles i obsessively pick at my nail beds until they bleed bandaids on 8 fingers rn rip i also chew gum all day long 35 sticks a day easy i pick my fingers more when i run out of gum am stressed so i think they re related as like fidgety behaviors i get distracted super easily and have a really hard time paying attention in class i never had any trouble in school but not many of classes were lecture based and the ones that were usually weren t difficult enough for me to have to actually follow along but wow college was a rude awakening i am alright at teaching myself and my gpa is fine but my freshman yr rising sophomore now was an experience like i would try and take notes but i d get stressed about how to format them and then get frustrated and give up just doing hw and studying on my own when i am copying material from a slide i process literally nothing i have to try and do the problem work out the concept first so it wasn t even like the notes were helping anyways usually i have to be doing multiple things like listening to music and reading stupid example sorry mostly though it manifests in my hands needing to be busy or it just feels weird sometimes though i get super focused on a particular thing like if i get totally zoned in while i m writing and i can just do it for hours when this happens i either disconnect with my surroundings ex don t notice i m in an uncomfortable position and end up straining my neck or something or get like super irritated by any noises or interruptions come to think of it it s usually a mix of both but it s also important to note this hyper focusing doesn t happen very often maybe like once a week ish whoa that was long thanks for reading this far but yeah should i consider therapy\n",
      "THERAPY :throwaway because i'm uncomfortable with social media right now i used to be one of those people who would be overly critical of people who make mistakes online i thought i was living the best life i could and i wouldn't be like those people till yesterday my ex whom i haven't spoken to in months has come out and accused me of being a sexual harasser racist and transphobe my current school and my previous school has severed ties with me along with my friends i have friends who are supportive of me but cannot speak to me cause theyre on thin ice if they associate with me all o have left is my mom and dad who are supportive and are letting me take therapy for this in one moment my life was ruined i had a mental breakdown when no one would listen to me everyone seemed to have made up their mind about me despite the fact that they haven't heard my side yet i even met people who said they don't need to hear my side my ex's side was all they needed to hear don't get me wrong i was in the wrong too i made off color jokes and used the n word a lot as a form of expression but they were only in the private messages of my ex at the time and i never said then to anyone else i did something wrong i shouldn't have done any of those things but what i can't get over is the fact that i had to lose everything for it for jokes i made in a private conversation to someone i trusted from over a year ago i want to grow as a person and bringing that to my attention was definitely something that should've happened but did it have to happen in public thousands of people saw it and now think i'm these things as for the sexual harassment she was inviting me to her place said no in the last minute and i kept being pushy in the end i never went but i guilt tripped her and i was being so dumb for that i just don't know why she wants me to say sorry again in public since i already said sorry during the relationship it was halfway into the relationship that this happened and i reflected upon it for over a year and she wants to make it public now i don't understand her mom doesn't know any of this i'm so sorry for doing such dumb things in private dms i wish people could let me forget but it gets worse every day i'm seeing a therapist but will that really help i'm sorry for everything slowly i start to think i'm going nuts my fingers start to lose their feeling when i hear about her but yet i don't hate her i don't know what's going on with me am i really a racist am i really a sexist at times i think i should just kill myself since so many people hate me i must really be scum is this how other people feel when they get hate online is this how it's like when you're completely and utterly alone\n",
      "THERAPY :dear r mentalhealth my brother in law has been suffering from anxiety part of it being a fear of dying any moment through whatever unreasonable causes and depression for over ten years now he has seen a therapist for some time but the relationship came to an end his situation seemed more or less managable most of the time he could still interact with people and study or eben had a job for a short time in the past year or so it has gotten worse and worse he barely gets out of his flat he does not respond to messages or calls most of the time if you wanna see him you have to go to his flat ring and wait if he opens and you can come in he gets sore muscles from walking to the grocery store his brother got him to talk recently and he reported that my brother in law lives in a completely hopless very dark place and cannot even remember a time when he felt different better and so he does not believe that this state will ever change he also told his brother that he is highly dissotiative unto the point where he completely loses the connection to his surroundings and is not able to see his environment properly anymore we knew he was depressed and saw him reacting less and less to our trying to communicate with him and getting him outside to get him involved into things but now we know how awfully bad it is we are sure hat this human being really needs help even if he does not see there is any sense in trying i was thinking that an ambulant therapy in some clinic might be a good idea for starting but i really don't know getting him to behaviour therapy or psychoanalysis would not be the right choice at this point would it i would really appreciate some opinions thank you all very much in advance i send you all much love and my warmest wishes\n"
     ]
    }
   ],
   "source": [
    "count = 0\n",
    "for i in ns_df[\"body\"]:\n",
    "    if \"night\" in i:\n",
    "        count+=1 \n",
    "        print(\"NIGHT: \" + i)\n",
    "    if \"therapy\" in i:\n",
    "        print(\"THERAPY :\" + i)\n",
    "        count+=1\n",
    "    if count == 10:\n",
    "        break"
   ]
  },
  {
   "cell_type": "code",
   "execution_count": 53,
   "id": "b7187a0f",
   "metadata": {},
   "outputs": [
    {
     "name": "stdout",
     "output_type": "stream",
     "text": [
      "Difference in count of advice is 1958\n",
      "Difference in count of please is 2971\n",
      "Difference in count of therapy is 1126\n",
      "Difference in count of relationship is 2535\n",
      "Difference in count of recently is 926\n",
      "Difference in count of lost is 885\n",
      "Difference in count of therapist is 1066\n",
      "Difference in count of night is 490\n",
      "Difference in count of old is 847\n"
     ]
    }
   ],
   "source": [
    "i = 0\n",
    "for word in word_ns:\n",
    "    print(\"Difference in count of \" + word + \" is \" + str(count_ns[i] - count_vent[i]))\n",
    "    i+=1"
   ]
  },
  {
   "cell_type": "code",
   "execution_count": 54,
   "id": "a2a4c57b",
   "metadata": {},
   "outputs": [
    {
     "name": "stdout",
     "output_type": "stream",
     "text": [
      "Difference in count of therapist is -1958\n",
      "Difference in count of advice is -2971\n",
      "Difference in count of therapy is -1126\n",
      "Difference in count of please is -2535\n",
      "Difference in count of old is -926\n",
      "Difference in count of night is -885\n",
      "Difference in count of relationship is -1066\n",
      "Difference in count of lost is -490\n",
      "Difference in count of recently is -847\n"
     ]
    }
   ],
   "source": [
    "i = 0\n",
    "for word in word_vent:\n",
    "    print(\"Difference in count of \" + word + \" is \" + str(count_vent[i] - count_ns[i]))\n",
    "    i+=1"
   ]
  },
  {
   "cell_type": "markdown",
   "id": "dc86ad1c",
   "metadata": {},
   "source": [
    "***night, therapy, advice, please, relationship\" are all in the top. Consider analyzing these words***"
   ]
  },
  {
   "cell_type": "markdown",
   "id": "57e304dc",
   "metadata": {},
   "source": [
    "#### Words like \"hi\", \"today\", \"alone\", \"depressed\",and \"stop\" appear as top 30 used words in Need Support posts but not in the top 30 used words in Venting posts. \n",
    "\n",
    "#### Starting the post of with a greeting seems to be much more common in Need Support posts, which indicates that the writer is addressing redditors contrary to Venting posts, where this occurs less frequently. "
   ]
  },
  {
   "cell_type": "markdown",
   "id": "b501dd1b",
   "metadata": {},
   "source": [
    "### Bag of words: \n",
    "\n",
    "#### Necessary for future work in word embedding and supervised classification. "
   ]
  },
  {
   "cell_type": "code",
   "execution_count": 55,
   "id": "82a5ccce",
   "metadata": {},
   "outputs": [],
   "source": [
    "def vec_fun(df_in, m_in, n_in):\n",
    "    from sklearn.feature_extraction.text import CountVectorizer\n",
    "    vec_t = CountVectorizer(ngram_range=(m_in, n_in))\n",
    "    xform_data_t = pd.DataFrame(vec_t.fit_transform(\n",
    "        df_in).toarray())#be careful may run out of memory\n",
    "    xform_data_t.columns = vec_t.get_feature_names_out()\n",
    "    return xform_data_t"
   ]
  },
  {
   "cell_type": "code",
   "execution_count": 56,
   "id": "cac350e7",
   "metadata": {},
   "outputs": [],
   "source": [
    "df_wordvec = vec_fun(df[\"body\"], 1, 1)"
   ]
  },
  {
   "cell_type": "code",
   "execution_count": 57,
   "id": "328c51dc",
   "metadata": {},
   "outputs": [],
   "source": [
    "df_wordvec.insert(1, 'Label', df['label'])"
   ]
  },
  {
   "cell_type": "code",
   "execution_count": 58,
   "id": "cd66a493",
   "metadata": {
    "scrolled": false
   },
   "outputs": [
    {
     "data": {
      "text/html": [
       "<div>\n",
       "<style scoped>\n",
       "    .dataframe tbody tr th:only-of-type {\n",
       "        vertical-align: middle;\n",
       "    }\n",
       "\n",
       "    .dataframe tbody tr th {\n",
       "        vertical-align: top;\n",
       "    }\n",
       "\n",
       "    .dataframe thead th {\n",
       "        text-align: right;\n",
       "    }\n",
       "</style>\n",
       "<table border=\"1\" class=\"dataframe\">\n",
       "  <thead>\n",
       "    <tr style=\"text-align: right;\">\n",
       "      <th></th>\n",
       "      <th>00</th>\n",
       "      <th>Label</th>\n",
       "      <th>000</th>\n",
       "      <th>0000</th>\n",
       "      <th>00000000000001</th>\n",
       "      <th>00001</th>\n",
       "      <th>0001</th>\n",
       "      <th>0005</th>\n",
       "      <th>000mil</th>\n",
       "      <th>000s</th>\n",
       "      <th>...</th>\n",
       "      <th>zyban</th>\n",
       "      <th>zygo</th>\n",
       "      <th>zylinders</th>\n",
       "      <th>zyn</th>\n",
       "      <th>zyprexa</th>\n",
       "      <th>zyzz</th>\n",
       "      <th>zz</th>\n",
       "      <th>zzz</th>\n",
       "      <th>zzzquil</th>\n",
       "      <th>zzzz</th>\n",
       "    </tr>\n",
       "  </thead>\n",
       "  <tbody>\n",
       "    <tr>\n",
       "      <th>0</th>\n",
       "      <td>0</td>\n",
       "      <td>Venting</td>\n",
       "      <td>0</td>\n",
       "      <td>0</td>\n",
       "      <td>0</td>\n",
       "      <td>0</td>\n",
       "      <td>0</td>\n",
       "      <td>0</td>\n",
       "      <td>0</td>\n",
       "      <td>0</td>\n",
       "      <td>...</td>\n",
       "      <td>0</td>\n",
       "      <td>0</td>\n",
       "      <td>0</td>\n",
       "      <td>0</td>\n",
       "      <td>0</td>\n",
       "      <td>0</td>\n",
       "      <td>0</td>\n",
       "      <td>0</td>\n",
       "      <td>0</td>\n",
       "      <td>0</td>\n",
       "    </tr>\n",
       "    <tr>\n",
       "      <th>1</th>\n",
       "      <td>0</td>\n",
       "      <td>Venting</td>\n",
       "      <td>0</td>\n",
       "      <td>0</td>\n",
       "      <td>0</td>\n",
       "      <td>0</td>\n",
       "      <td>0</td>\n",
       "      <td>0</td>\n",
       "      <td>0</td>\n",
       "      <td>0</td>\n",
       "      <td>...</td>\n",
       "      <td>0</td>\n",
       "      <td>0</td>\n",
       "      <td>0</td>\n",
       "      <td>0</td>\n",
       "      <td>0</td>\n",
       "      <td>0</td>\n",
       "      <td>0</td>\n",
       "      <td>0</td>\n",
       "      <td>0</td>\n",
       "      <td>0</td>\n",
       "    </tr>\n",
       "    <tr>\n",
       "      <th>2</th>\n",
       "      <td>0</td>\n",
       "      <td>Venting</td>\n",
       "      <td>0</td>\n",
       "      <td>0</td>\n",
       "      <td>0</td>\n",
       "      <td>0</td>\n",
       "      <td>0</td>\n",
       "      <td>0</td>\n",
       "      <td>0</td>\n",
       "      <td>0</td>\n",
       "      <td>...</td>\n",
       "      <td>0</td>\n",
       "      <td>0</td>\n",
       "      <td>0</td>\n",
       "      <td>0</td>\n",
       "      <td>0</td>\n",
       "      <td>0</td>\n",
       "      <td>0</td>\n",
       "      <td>0</td>\n",
       "      <td>0</td>\n",
       "      <td>0</td>\n",
       "    </tr>\n",
       "    <tr>\n",
       "      <th>3</th>\n",
       "      <td>0</td>\n",
       "      <td>Venting</td>\n",
       "      <td>0</td>\n",
       "      <td>0</td>\n",
       "      <td>0</td>\n",
       "      <td>0</td>\n",
       "      <td>0</td>\n",
       "      <td>0</td>\n",
       "      <td>0</td>\n",
       "      <td>0</td>\n",
       "      <td>...</td>\n",
       "      <td>0</td>\n",
       "      <td>0</td>\n",
       "      <td>0</td>\n",
       "      <td>0</td>\n",
       "      <td>0</td>\n",
       "      <td>0</td>\n",
       "      <td>0</td>\n",
       "      <td>0</td>\n",
       "      <td>0</td>\n",
       "      <td>0</td>\n",
       "    </tr>\n",
       "    <tr>\n",
       "      <th>4</th>\n",
       "      <td>0</td>\n",
       "      <td>Venting</td>\n",
       "      <td>0</td>\n",
       "      <td>0</td>\n",
       "      <td>0</td>\n",
       "      <td>0</td>\n",
       "      <td>0</td>\n",
       "      <td>0</td>\n",
       "      <td>0</td>\n",
       "      <td>0</td>\n",
       "      <td>...</td>\n",
       "      <td>0</td>\n",
       "      <td>0</td>\n",
       "      <td>0</td>\n",
       "      <td>0</td>\n",
       "      <td>0</td>\n",
       "      <td>0</td>\n",
       "      <td>0</td>\n",
       "      <td>0</td>\n",
       "      <td>0</td>\n",
       "      <td>0</td>\n",
       "    </tr>\n",
       "    <tr>\n",
       "      <th>...</th>\n",
       "      <td>...</td>\n",
       "      <td>...</td>\n",
       "      <td>...</td>\n",
       "      <td>...</td>\n",
       "      <td>...</td>\n",
       "      <td>...</td>\n",
       "      <td>...</td>\n",
       "      <td>...</td>\n",
       "      <td>...</td>\n",
       "      <td>...</td>\n",
       "      <td>...</td>\n",
       "      <td>...</td>\n",
       "      <td>...</td>\n",
       "      <td>...</td>\n",
       "      <td>...</td>\n",
       "      <td>...</td>\n",
       "      <td>...</td>\n",
       "      <td>...</td>\n",
       "      <td>...</td>\n",
       "      <td>...</td>\n",
       "      <td>...</td>\n",
       "    </tr>\n",
       "    <tr>\n",
       "      <th>48825</th>\n",
       "      <td>0</td>\n",
       "      <td>Venting</td>\n",
       "      <td>0</td>\n",
       "      <td>0</td>\n",
       "      <td>0</td>\n",
       "      <td>0</td>\n",
       "      <td>0</td>\n",
       "      <td>0</td>\n",
       "      <td>0</td>\n",
       "      <td>0</td>\n",
       "      <td>...</td>\n",
       "      <td>0</td>\n",
       "      <td>0</td>\n",
       "      <td>0</td>\n",
       "      <td>0</td>\n",
       "      <td>0</td>\n",
       "      <td>0</td>\n",
       "      <td>0</td>\n",
       "      <td>0</td>\n",
       "      <td>0</td>\n",
       "      <td>0</td>\n",
       "    </tr>\n",
       "    <tr>\n",
       "      <th>48826</th>\n",
       "      <td>0</td>\n",
       "      <td>Need Support</td>\n",
       "      <td>0</td>\n",
       "      <td>0</td>\n",
       "      <td>0</td>\n",
       "      <td>0</td>\n",
       "      <td>0</td>\n",
       "      <td>0</td>\n",
       "      <td>0</td>\n",
       "      <td>0</td>\n",
       "      <td>...</td>\n",
       "      <td>0</td>\n",
       "      <td>0</td>\n",
       "      <td>0</td>\n",
       "      <td>0</td>\n",
       "      <td>0</td>\n",
       "      <td>0</td>\n",
       "      <td>0</td>\n",
       "      <td>0</td>\n",
       "      <td>0</td>\n",
       "      <td>0</td>\n",
       "    </tr>\n",
       "    <tr>\n",
       "      <th>48827</th>\n",
       "      <td>0</td>\n",
       "      <td>Need Support</td>\n",
       "      <td>0</td>\n",
       "      <td>0</td>\n",
       "      <td>0</td>\n",
       "      <td>0</td>\n",
       "      <td>0</td>\n",
       "      <td>0</td>\n",
       "      <td>0</td>\n",
       "      <td>0</td>\n",
       "      <td>...</td>\n",
       "      <td>0</td>\n",
       "      <td>0</td>\n",
       "      <td>0</td>\n",
       "      <td>0</td>\n",
       "      <td>0</td>\n",
       "      <td>0</td>\n",
       "      <td>0</td>\n",
       "      <td>0</td>\n",
       "      <td>0</td>\n",
       "      <td>0</td>\n",
       "    </tr>\n",
       "    <tr>\n",
       "      <th>48828</th>\n",
       "      <td>0</td>\n",
       "      <td>Venting</td>\n",
       "      <td>0</td>\n",
       "      <td>0</td>\n",
       "      <td>0</td>\n",
       "      <td>0</td>\n",
       "      <td>0</td>\n",
       "      <td>0</td>\n",
       "      <td>0</td>\n",
       "      <td>0</td>\n",
       "      <td>...</td>\n",
       "      <td>0</td>\n",
       "      <td>0</td>\n",
       "      <td>0</td>\n",
       "      <td>0</td>\n",
       "      <td>0</td>\n",
       "      <td>0</td>\n",
       "      <td>0</td>\n",
       "      <td>0</td>\n",
       "      <td>0</td>\n",
       "      <td>0</td>\n",
       "    </tr>\n",
       "    <tr>\n",
       "      <th>48829</th>\n",
       "      <td>0</td>\n",
       "      <td>Need Support</td>\n",
       "      <td>0</td>\n",
       "      <td>0</td>\n",
       "      <td>0</td>\n",
       "      <td>0</td>\n",
       "      <td>0</td>\n",
       "      <td>0</td>\n",
       "      <td>0</td>\n",
       "      <td>0</td>\n",
       "      <td>...</td>\n",
       "      <td>0</td>\n",
       "      <td>0</td>\n",
       "      <td>0</td>\n",
       "      <td>0</td>\n",
       "      <td>0</td>\n",
       "      <td>0</td>\n",
       "      <td>0</td>\n",
       "      <td>0</td>\n",
       "      <td>0</td>\n",
       "      <td>0</td>\n",
       "    </tr>\n",
       "  </tbody>\n",
       "</table>\n",
       "<p>48830 rows × 56714 columns</p>\n",
       "</div>"
      ],
      "text/plain": [
       "       00         Label  000  0000  00000000000001  00001  0001  0005  000mil  \\\n",
       "0       0       Venting    0     0               0      0     0     0       0   \n",
       "1       0       Venting    0     0               0      0     0     0       0   \n",
       "2       0       Venting    0     0               0      0     0     0       0   \n",
       "3       0       Venting    0     0               0      0     0     0       0   \n",
       "4       0       Venting    0     0               0      0     0     0       0   \n",
       "...    ..           ...  ...   ...             ...    ...   ...   ...     ...   \n",
       "48825   0       Venting    0     0               0      0     0     0       0   \n",
       "48826   0  Need Support    0     0               0      0     0     0       0   \n",
       "48827   0  Need Support    0     0               0      0     0     0       0   \n",
       "48828   0       Venting    0     0               0      0     0     0       0   \n",
       "48829   0  Need Support    0     0               0      0     0     0       0   \n",
       "\n",
       "       000s  ...  zyban  zygo  zylinders  zyn  zyprexa  zyzz  zz  zzz  \\\n",
       "0         0  ...      0     0          0    0        0     0   0    0   \n",
       "1         0  ...      0     0          0    0        0     0   0    0   \n",
       "2         0  ...      0     0          0    0        0     0   0    0   \n",
       "3         0  ...      0     0          0    0        0     0   0    0   \n",
       "4         0  ...      0     0          0    0        0     0   0    0   \n",
       "...     ...  ...    ...   ...        ...  ...      ...   ...  ..  ...   \n",
       "48825     0  ...      0     0          0    0        0     0   0    0   \n",
       "48826     0  ...      0     0          0    0        0     0   0    0   \n",
       "48827     0  ...      0     0          0    0        0     0   0    0   \n",
       "48828     0  ...      0     0          0    0        0     0   0    0   \n",
       "48829     0  ...      0     0          0    0        0     0   0    0   \n",
       "\n",
       "       zzzquil  zzzz  \n",
       "0            0     0  \n",
       "1            0     0  \n",
       "2            0     0  \n",
       "3            0     0  \n",
       "4            0     0  \n",
       "...        ...   ...  \n",
       "48825        0     0  \n",
       "48826        0     0  \n",
       "48827        0     0  \n",
       "48828        0     0  \n",
       "48829        0     0  \n",
       "\n",
       "[48830 rows x 56714 columns]"
      ]
     },
     "execution_count": 58,
     "metadata": {},
     "output_type": "execute_result"
    }
   ],
   "source": [
    "df_wordvec"
   ]
  },
  {
   "cell_type": "code",
   "execution_count": 59,
   "id": "b8e41577",
   "metadata": {},
   "outputs": [
    {
     "name": "stdout",
     "output_type": "stream",
     "text": [
      "Requirement already satisfied: textblob in /Users/anjanarao/opt/anaconda3/lib/python3.9/site-packages (0.18.0.post0)\n",
      "Requirement already satisfied: nltk>=3.8 in /Users/anjanarao/opt/anaconda3/lib/python3.9/site-packages (from textblob) (3.8.1)\n",
      "Requirement already satisfied: click in /Users/anjanarao/opt/anaconda3/lib/python3.9/site-packages (from nltk>=3.8->textblob) (8.0.4)\n",
      "Requirement already satisfied: joblib in /Users/anjanarao/opt/anaconda3/lib/python3.9/site-packages (from nltk>=3.8->textblob) (1.1.0)\n",
      "Requirement already satisfied: regex>=2021.8.3 in /Users/anjanarao/opt/anaconda3/lib/python3.9/site-packages (from nltk>=3.8->textblob) (2022.3.15)\n",
      "Requirement already satisfied: tqdm in /Users/anjanarao/opt/anaconda3/lib/python3.9/site-packages (from nltk>=3.8->textblob) (4.64.0)\n",
      "\n",
      "\u001b[1m[\u001b[0m\u001b[34;49mnotice\u001b[0m\u001b[1;39;49m]\u001b[0m\u001b[39;49m A new release of pip is available: \u001b[0m\u001b[31;49m23.3.2\u001b[0m\u001b[39;49m -> \u001b[0m\u001b[32;49m24.0\u001b[0m\n",
      "\u001b[1m[\u001b[0m\u001b[34;49mnotice\u001b[0m\u001b[1;39;49m]\u001b[0m\u001b[39;49m To update, run: \u001b[0m\u001b[32;49m/Users/anjanarao/opt/anaconda3/bin/python -m pip install --upgrade pip\u001b[0m\n",
      "Note: you may need to restart the kernel to use updated packages.\n"
     ]
    }
   ],
   "source": [
    "pip install textblob"
   ]
  },
  {
   "cell_type": "markdown",
   "id": "b1e6c358",
   "metadata": {},
   "source": [
    "### Sentiment Analysis"
   ]
  },
  {
   "cell_type": "code",
   "execution_count": 171,
   "id": "dd9a6522",
   "metadata": {},
   "outputs": [],
   "source": [
    "from textblob import TextBlob"
   ]
  },
  {
   "cell_type": "code",
   "execution_count": 184,
   "id": "9aa5c4e2",
   "metadata": {},
   "outputs": [
    {
     "data": {
      "text/plain": [
       "17       life trying getting morning working going clas...\n",
       "30       hi 23 year old male job programmer lately work...\n",
       "33       know might best place think subreddit help kno...\n",
       "34       i've feeling i'm even real imposter syndrome e...\n",
       "37       undergrad university student nearly 4 weeks 6 ...\n",
       "                               ...                        \n",
       "48875    mind business think fight someone know wake se...\n",
       "48876    i've literally lost every single ounce motivat...\n",
       "48880    m22 work full time i'm trying fill application...\n",
       "48882    hi ta account forced live someone narcissistic...\n",
       "48884    mental health going bad year really know under...\n",
       "Name: body_sw, Length: 26051, dtype: object"
      ]
     },
     "execution_count": 184,
     "metadata": {},
     "output_type": "execute_result"
    }
   ],
   "source": [
    "ns_df[\"body_sw\"]"
   ]
  },
  {
   "cell_type": "code",
   "execution_count": 172,
   "id": "549e2839",
   "metadata": {},
   "outputs": [],
   "source": [
    "polar_vent = []\n",
    "for body in vent_df[\"body_sw\"]:\n",
    "     polar_vent.append(TextBlob(body).sentiment.polarity)"
   ]
  },
  {
   "cell_type": "code",
   "execution_count": 173,
   "id": "77bf6799",
   "metadata": {},
   "outputs": [],
   "source": [
    "polar_ns = []\n",
    "for body in ns_df[\"body_sw\"]:\n",
    "     polar_ns.append(TextBlob(body).sentiment.polarity)"
   ]
  },
  {
   "cell_type": "code",
   "execution_count": 174,
   "id": "d7617638",
   "metadata": {},
   "outputs": [],
   "source": [
    "import statistics"
   ]
  },
  {
   "cell_type": "code",
   "execution_count": 175,
   "id": "a654d543",
   "metadata": {},
   "outputs": [],
   "source": [
    "mean_vent = statistics.mean(polar_vent)\n",
    "mean_ns = statistics.mean(polar_ns)"
   ]
  },
  {
   "cell_type": "code",
   "execution_count": 176,
   "id": "c8a95f38",
   "metadata": {},
   "outputs": [
    {
     "data": {
      "text/plain": [
       "-0.02391544247965423"
      ]
     },
     "execution_count": 176,
     "metadata": {},
     "output_type": "execute_result"
    }
   ],
   "source": [
    "mean_vent"
   ]
  },
  {
   "cell_type": "code",
   "execution_count": 177,
   "id": "343b2111",
   "metadata": {},
   "outputs": [
    {
     "data": {
      "text/plain": [
       "-0.00768929942683385"
      ]
     },
     "execution_count": 177,
     "metadata": {},
     "output_type": "execute_result"
    }
   ],
   "source": [
    "mean_ns"
   ]
  },
  {
   "cell_type": "code",
   "execution_count": 178,
   "id": "fd2a9a73",
   "metadata": {},
   "outputs": [
    {
     "data": {
      "text/plain": [
       "-0.02391544247965423"
      ]
     },
     "execution_count": 178,
     "metadata": {},
     "output_type": "execute_result"
    }
   ],
   "source": [
    "mean_vent"
   ]
  },
  {
   "cell_type": "code",
   "execution_count": 179,
   "id": "869b5746",
   "metadata": {},
   "outputs": [
    {
     "data": {
      "image/png": "[encoded data removed]",
      "text/plain": [
       "<Figure size 432x288 with 1 Axes>"
      ]
     },
     "metadata": {
      "needs_background": "light"
     },
     "output_type": "display_data"
    }
   ],
   "source": [
    "plt.hist(polar_vent, bins=80, edgecolor='black', color = \"orange\")\n",
    "plt.xlabel('Sentiment')\n",
    "plt.ylabel('Frequency')\n",
    "plt.title('Distribution of Sentiment for Venting Posts')\n",
    "plt.grid(True)\n",
    "plt.show()"
   ]
  },
  {
   "cell_type": "code",
   "execution_count": 180,
   "id": "7805faa4",
   "metadata": {},
   "outputs": [
    {
     "name": "stdout",
     "output_type": "stream",
     "text": [
      "Mean: -0.02391544247965423\n",
      "Median: -0.00984848484848485\n",
      "Mode: 0.0\n",
      "Standard Deviation: 0.16782789329642012\n"
     ]
    }
   ],
   "source": [
    "mean_value = statistics.mean(polar_vent)\n",
    "print(\"Mean:\", mean_value)\n",
    "\n",
    "# Median\n",
    "median_value = statistics.median(polar_vent)\n",
    "print(\"Median:\", median_value)\n",
    "\n",
    "# Mode\n",
    "mode_value = statistics.mode(polar_vent)\n",
    "print(\"Mode:\", mode_value)\n",
    "\n",
    "# Standard deviation\n",
    "std_deviation = statistics.stdev(polar_vent)\n",
    "print(\"Standard Deviation:\", std_deviation)"
   ]
  },
  {
   "cell_type": "code",
   "execution_count": 181,
   "id": "835a62e4",
   "metadata": {},
   "outputs": [
    {
     "data": {
      "image/png": "[encoded data removed]",
      "text/plain": [
       "<Figure size 432x288 with 1 Axes>"
      ]
     },
     "metadata": {
      "needs_background": "light"
     },
     "output_type": "display_data"
    }
   ],
   "source": [
    "plt.hist(polar_ns, bins=80, edgecolor='black', color = \"blue\")\n",
    "plt.xlabel('Sentiment')\n",
    "plt.ylabel('Frequency')\n",
    "plt.title('Distribution of Sentiment for Need Support Posts')\n",
    "plt.grid(True)\n",
    "plt.show()"
   ]
  },
  {
   "cell_type": "code",
   "execution_count": 182,
   "id": "3367210b",
   "metadata": {},
   "outputs": [
    {
     "name": "stdout",
     "output_type": "stream",
     "text": [
      "Mean: -0.00768929942683385\n",
      "Median: 0.0\n",
      "Mode: 0.0\n",
      "Standard Deviation: 0.16049284215277243\n"
     ]
    }
   ],
   "source": [
    "mean_value = statistics.mean(polar_ns)\n",
    "print(\"Mean:\", mean_value)\n",
    "\n",
    "# Median\n",
    "median_value = statistics.median(polar_ns)\n",
    "print(\"Median:\", median_value)\n",
    "\n",
    "# Mode\n",
    "mode_value = statistics.mode(polar_ns)\n",
    "print(\"Mode:\", mode_value)\n",
    "\n",
    "# Standard deviation\n",
    "std_deviation = statistics.stdev(polar_ns)\n",
    "print(\"Standard Deviation:\", std_deviation)"
   ]
  },
  {
   "cell_type": "markdown",
   "id": "a9502760",
   "metadata": {},
   "source": [
    "### How does average sentiment compare across labels?"
   ]
  },
  {
   "cell_type": "code",
   "execution_count": 183,
   "id": "e2bcac09",
   "metadata": {},
   "outputs": [
    {
     "data": {
      "text/plain": [
       "-67.84797340306194"
      ]
     },
     "execution_count": 183,
     "metadata": {},
     "output_type": "execute_result"
    }
   ],
   "source": [
    "((mean_ns - mean_vent) / mean_vent) * 100"
   ]
  },
  {
   "cell_type": "markdown",
   "id": "88490715",
   "metadata": {},
   "source": [
    "#### The average sentiment across all Venting posts 69% lower than the average across all Need Support posts."
   ]
  },
  {
   "cell_type": "code",
   "execution_count": 162,
   "id": "754c929f",
   "metadata": {},
   "outputs": [],
   "source": [
    "posts = ns_df[\"body\"].apply(lambda x: x if \"therapy\" in x else None)"
   ]
  },
  {
   "cell_type": "markdown",
   "id": "1f8c7434",
   "metadata": {},
   "source": [
    "**Feature Importance** Note: This was added after supervised learning "
   ]
  },
  {
   "cell_type": "code",
   "execution_count": 163,
   "id": "ffa4c3ff",
   "metadata": {},
   "outputs": [],
   "source": [
    "ft_imp = pd.read_csv(\"featureImportanceModelB.csv\")"
   ]
  },
  {
   "cell_type": "code",
   "execution_count": 83,
   "id": "b954abf9",
   "metadata": {},
   "outputs": [
    {
     "data": {
      "text/html": [
       "<div>\n",
       "<style scoped>\n",
       "    .dataframe tbody tr th:only-of-type {\n",
       "        vertical-align: middle;\n",
       "    }\n",
       "\n",
       "    .dataframe tbody tr th {\n",
       "        vertical-align: top;\n",
       "    }\n",
       "\n",
       "    .dataframe thead th {\n",
       "        text-align: right;\n",
       "    }\n",
       "</style>\n",
       "<table border=\"1\" class=\"dataframe\">\n",
       "  <thead>\n",
       "    <tr style=\"text-align: right;\">\n",
       "      <th></th>\n",
       "      <th>Unnamed: 0</th>\n",
       "      <th>Unnamed: 1</th>\n",
       "      <th>Unnamed: 2</th>\n",
       "      <th>Unnamed: 3</th>\n",
       "      <th>Unnamed: 4</th>\n",
       "      <th>Unnamed: 5</th>\n",
       "      <th>Unnamed: 6</th>\n",
       "    </tr>\n",
       "  </thead>\n",
       "  <tbody>\n",
       "    <tr>\n",
       "      <th>0</th>\n",
       "      <td>NaN</td>\n",
       "      <td>feature</td>\n",
       "      <td>importance</td>\n",
       "      <td>NaN</td>\n",
       "      <td>NaN</td>\n",
       "      <td>NaN</td>\n",
       "      <td>NaN</td>\n",
       "    </tr>\n",
       "    <tr>\n",
       "      <th>1</th>\n",
       "      <td>NaN</td>\n",
       "      <td>advice</td>\n",
       "      <td>0.010646</td>\n",
       "      <td>NaN</td>\n",
       "      <td>NaN</td>\n",
       "      <td>NaN</td>\n",
       "      <td>NaN</td>\n",
       "    </tr>\n",
       "    <tr>\n",
       "      <th>2</th>\n",
       "      <td>NaN</td>\n",
       "      <td>please</td>\n",
       "      <td>0.009463</td>\n",
       "      <td>NaN</td>\n",
       "      <td>NaN</td>\n",
       "      <td>NaN</td>\n",
       "      <td>NaN</td>\n",
       "    </tr>\n",
       "    <tr>\n",
       "      <th>3</th>\n",
       "      <td>NaN</td>\n",
       "      <td>help</td>\n",
       "      <td>0.008762</td>\n",
       "      <td>NaN</td>\n",
       "      <td>NaN</td>\n",
       "      <td>NaN</td>\n",
       "      <td>NaN</td>\n",
       "    </tr>\n",
       "    <tr>\n",
       "      <th>4</th>\n",
       "      <td>NaN</td>\n",
       "      <td>just</td>\n",
       "      <td>0.007587</td>\n",
       "      <td>NaN</td>\n",
       "      <td>NaN</td>\n",
       "      <td>NaN</td>\n",
       "      <td>NaN</td>\n",
       "    </tr>\n",
       "    <tr>\n",
       "      <th>5</th>\n",
       "      <td>NaN</td>\n",
       "      <td>vent</td>\n",
       "      <td>0.006695</td>\n",
       "      <td>NaN</td>\n",
       "      <td>NaN</td>\n",
       "      <td>NaN</td>\n",
       "      <td>NaN</td>\n",
       "    </tr>\n",
       "    <tr>\n",
       "      <th>6</th>\n",
       "      <td>NaN</td>\n",
       "      <td>any</td>\n",
       "      <td>0.006066</td>\n",
       "      <td>NaN</td>\n",
       "      <td>NaN</td>\n",
       "      <td>NaN</td>\n",
       "      <td>NaN</td>\n",
       "    </tr>\n",
       "    <tr>\n",
       "      <th>7</th>\n",
       "      <td>NaN</td>\n",
       "      <td>and</td>\n",
       "      <td>0.005938</td>\n",
       "      <td>NaN</td>\n",
       "      <td>NaN</td>\n",
       "      <td>NaN</td>\n",
       "      <td>NaN</td>\n",
       "    </tr>\n",
       "    <tr>\n",
       "      <th>8</th>\n",
       "      <td>NaN</td>\n",
       "      <td>do</td>\n",
       "      <td>0.005934</td>\n",
       "      <td>NaN</td>\n",
       "      <td>NaN</td>\n",
       "      <td>NaN</td>\n",
       "      <td>NaN</td>\n",
       "    </tr>\n",
       "    <tr>\n",
       "      <th>9</th>\n",
       "      <td>NaN</td>\n",
       "      <td>to</td>\n",
       "      <td>0.005821</td>\n",
       "      <td>NaN</td>\n",
       "      <td>NaN</td>\n",
       "      <td>NaN</td>\n",
       "      <td>NaN</td>\n",
       "    </tr>\n",
       "    <tr>\n",
       "      <th>10</th>\n",
       "      <td>NaN</td>\n",
       "      <td>it</td>\n",
       "      <td>0.005552</td>\n",
       "      <td>NaN</td>\n",
       "      <td>NaN</td>\n",
       "      <td>NaN</td>\n",
       "      <td>NaN</td>\n",
       "    </tr>\n",
       "    <tr>\n",
       "      <th>11</th>\n",
       "      <td>NaN</td>\n",
       "      <td>what</td>\n",
       "      <td>0.005477</td>\n",
       "      <td>NaN</td>\n",
       "      <td>NaN</td>\n",
       "      <td>NaN</td>\n",
       "      <td>NaN</td>\n",
       "    </tr>\n",
       "    <tr>\n",
       "      <th>12</th>\n",
       "      <td>NaN</td>\n",
       "      <td>me</td>\n",
       "      <td>0.005138</td>\n",
       "      <td>NaN</td>\n",
       "      <td>NaN</td>\n",
       "      <td>NaN</td>\n",
       "      <td>NaN</td>\n",
       "    </tr>\n",
       "    <tr>\n",
       "      <th>13</th>\n",
       "      <td>NaN</td>\n",
       "      <td>people</td>\n",
       "      <td>0.005099</td>\n",
       "      <td>NaN</td>\n",
       "      <td>NaN</td>\n",
       "      <td>NaN</td>\n",
       "      <td>NaN</td>\n",
       "    </tr>\n",
       "    <tr>\n",
       "      <th>14</th>\n",
       "      <td>NaN</td>\n",
       "      <td>fucking</td>\n",
       "      <td>0.005027</td>\n",
       "      <td>NaN</td>\n",
       "      <td>NaN</td>\n",
       "      <td>NaN</td>\n",
       "      <td>NaN</td>\n",
       "    </tr>\n",
       "    <tr>\n",
       "      <th>15</th>\n",
       "      <td>NaN</td>\n",
       "      <td>my</td>\n",
       "      <td>0.005</td>\n",
       "      <td>NaN</td>\n",
       "      <td>NaN</td>\n",
       "      <td>NaN</td>\n",
       "      <td>NaN</td>\n",
       "    </tr>\n",
       "    <tr>\n",
       "      <th>16</th>\n",
       "      <td>NaN</td>\n",
       "      <td>the</td>\n",
       "      <td>0.004734</td>\n",
       "      <td>NaN</td>\n",
       "      <td>NaN</td>\n",
       "      <td>NaN</td>\n",
       "      <td>NaN</td>\n",
       "    </tr>\n",
       "    <tr>\n",
       "      <th>17</th>\n",
       "      <td>NaN</td>\n",
       "      <td>that</td>\n",
       "      <td>0.004509</td>\n",
       "      <td>NaN</td>\n",
       "      <td>NaN</td>\n",
       "      <td>NaN</td>\n",
       "      <td>NaN</td>\n",
       "    </tr>\n",
       "    <tr>\n",
       "      <th>18</th>\n",
       "      <td>NaN</td>\n",
       "      <td>so</td>\n",
       "      <td>0.00443</td>\n",
       "      <td>NaN</td>\n",
       "      <td>NaN</td>\n",
       "      <td>NaN</td>\n",
       "      <td>NaN</td>\n",
       "    </tr>\n",
       "    <tr>\n",
       "      <th>19</th>\n",
       "      <td>NaN</td>\n",
       "      <td>this</td>\n",
       "      <td>0.004389</td>\n",
       "      <td>NaN</td>\n",
       "      <td>NaN</td>\n",
       "      <td>NaN</td>\n",
       "      <td>NaN</td>\n",
       "    </tr>\n",
       "    <tr>\n",
       "      <th>20</th>\n",
       "      <td>NaN</td>\n",
       "      <td>like</td>\n",
       "      <td>0.004356</td>\n",
       "      <td>NaN</td>\n",
       "      <td>NaN</td>\n",
       "      <td>NaN</td>\n",
       "      <td>NaN</td>\n",
       "    </tr>\n",
       "    <tr>\n",
       "      <th>21</th>\n",
       "      <td>NaN</td>\n",
       "      <td>of</td>\n",
       "      <td>0.004351</td>\n",
       "      <td>NaN</td>\n",
       "      <td>NaN</td>\n",
       "      <td>NaN</td>\n",
       "      <td>NaN</td>\n",
       "    </tr>\n",
       "    <tr>\n",
       "      <th>22</th>\n",
       "      <td>NaN</td>\n",
       "      <td>but</td>\n",
       "      <td>0.004288</td>\n",
       "      <td>NaN</td>\n",
       "      <td>NaN</td>\n",
       "      <td>NaN</td>\n",
       "      <td>NaN</td>\n",
       "    </tr>\n",
       "    <tr>\n",
       "      <th>23</th>\n",
       "      <td>NaN</td>\n",
       "      <td>feel</td>\n",
       "      <td>0.004219</td>\n",
       "      <td>NaN</td>\n",
       "      <td>NaN</td>\n",
       "      <td>NaN</td>\n",
       "      <td>NaN</td>\n",
       "    </tr>\n",
       "    <tr>\n",
       "      <th>24</th>\n",
       "      <td>NaN</td>\n",
       "      <td>have</td>\n",
       "      <td>0.004196</td>\n",
       "      <td>NaN</td>\n",
       "      <td>NaN</td>\n",
       "      <td>NaN</td>\n",
       "      <td>NaN</td>\n",
       "    </tr>\n",
       "    <tr>\n",
       "      <th>25</th>\n",
       "      <td>NaN</td>\n",
       "      <td>be</td>\n",
       "      <td>0.00413</td>\n",
       "      <td>NaN</td>\n",
       "      <td>NaN</td>\n",
       "      <td>NaN</td>\n",
       "      <td>NaN</td>\n",
       "    </tr>\n",
       "    <tr>\n",
       "      <th>26</th>\n",
       "      <td>NaN</td>\n",
       "      <td>need</td>\n",
       "      <td>0.004127</td>\n",
       "      <td>NaN</td>\n",
       "      <td>NaN</td>\n",
       "      <td>NaN</td>\n",
       "      <td>NaN</td>\n",
       "    </tr>\n",
       "    <tr>\n",
       "      <th>27</th>\n",
       "      <td>NaN</td>\n",
       "      <td>with</td>\n",
       "      <td>0.004082</td>\n",
       "      <td>NaN</td>\n",
       "      <td>NaN</td>\n",
       "      <td>NaN</td>\n",
       "      <td>NaN</td>\n",
       "    </tr>\n",
       "    <tr>\n",
       "      <th>28</th>\n",
       "      <td>NaN</td>\n",
       "      <td>in</td>\n",
       "      <td>0.004028</td>\n",
       "      <td>NaN</td>\n",
       "      <td>NaN</td>\n",
       "      <td>NaN</td>\n",
       "      <td>NaN</td>\n",
       "    </tr>\n",
       "    <tr>\n",
       "      <th>29</th>\n",
       "      <td>NaN</td>\n",
       "      <td>is</td>\n",
       "      <td>0.004015</td>\n",
       "      <td>NaN</td>\n",
       "      <td>NaN</td>\n",
       "      <td>NaN</td>\n",
       "      <td>NaN</td>\n",
       "    </tr>\n",
       "    <tr>\n",
       "      <th>30</th>\n",
       "      <td>NaN</td>\n",
       "      <td>been</td>\n",
       "      <td>0.00393</td>\n",
       "      <td>NaN</td>\n",
       "      <td>NaN</td>\n",
       "      <td>NaN</td>\n",
       "      <td>NaN</td>\n",
       "    </tr>\n",
       "    <tr>\n",
       "      <th>31</th>\n",
       "      <td>NaN</td>\n",
       "      <td>all</td>\n",
       "      <td>0.003891</td>\n",
       "      <td>NaN</td>\n",
       "      <td>NaN</td>\n",
       "      <td>NaN</td>\n",
       "      <td>NaN</td>\n",
       "    </tr>\n",
       "  </tbody>\n",
       "</table>\n",
       "</div>"
      ],
      "text/plain": [
       "    Unnamed: 0 Unnamed: 1  Unnamed: 2  Unnamed: 3  Unnamed: 4  Unnamed: 5  \\\n",
       "0          NaN    feature  importance         NaN         NaN         NaN   \n",
       "1          NaN     advice    0.010646         NaN         NaN         NaN   \n",
       "2          NaN     please    0.009463         NaN         NaN         NaN   \n",
       "3          NaN       help    0.008762         NaN         NaN         NaN   \n",
       "4          NaN       just    0.007587         NaN         NaN         NaN   \n",
       "5          NaN       vent    0.006695         NaN         NaN         NaN   \n",
       "6          NaN        any    0.006066         NaN         NaN         NaN   \n",
       "7          NaN        and    0.005938         NaN         NaN         NaN   \n",
       "8          NaN         do    0.005934         NaN         NaN         NaN   \n",
       "9          NaN         to    0.005821         NaN         NaN         NaN   \n",
       "10         NaN         it    0.005552         NaN         NaN         NaN   \n",
       "11         NaN       what    0.005477         NaN         NaN         NaN   \n",
       "12         NaN         me    0.005138         NaN         NaN         NaN   \n",
       "13         NaN     people    0.005099         NaN         NaN         NaN   \n",
       "14         NaN    fucking    0.005027         NaN         NaN         NaN   \n",
       "15         NaN         my       0.005         NaN         NaN         NaN   \n",
       "16         NaN        the    0.004734         NaN         NaN         NaN   \n",
       "17         NaN       that    0.004509         NaN         NaN         NaN   \n",
       "18         NaN         so     0.00443         NaN         NaN         NaN   \n",
       "19         NaN       this    0.004389         NaN         NaN         NaN   \n",
       "20         NaN       like    0.004356         NaN         NaN         NaN   \n",
       "21         NaN         of    0.004351         NaN         NaN         NaN   \n",
       "22         NaN        but    0.004288         NaN         NaN         NaN   \n",
       "23         NaN       feel    0.004219         NaN         NaN         NaN   \n",
       "24         NaN       have    0.004196         NaN         NaN         NaN   \n",
       "25         NaN         be     0.00413         NaN         NaN         NaN   \n",
       "26         NaN       need    0.004127         NaN         NaN         NaN   \n",
       "27         NaN       with    0.004082         NaN         NaN         NaN   \n",
       "28         NaN         in    0.004028         NaN         NaN         NaN   \n",
       "29         NaN         is    0.004015         NaN         NaN         NaN   \n",
       "30         NaN       been     0.00393         NaN         NaN         NaN   \n",
       "31         NaN        all    0.003891         NaN         NaN         NaN   \n",
       "\n",
       "    Unnamed: 6  \n",
       "0          NaN  \n",
       "1          NaN  \n",
       "2          NaN  \n",
       "3          NaN  \n",
       "4          NaN  \n",
       "5          NaN  \n",
       "6          NaN  \n",
       "7          NaN  \n",
       "8          NaN  \n",
       "9          NaN  \n",
       "10         NaN  \n",
       "11         NaN  \n",
       "12         NaN  \n",
       "13         NaN  \n",
       "14         NaN  \n",
       "15         NaN  \n",
       "16         NaN  \n",
       "17         NaN  \n",
       "18         NaN  \n",
       "19         NaN  \n",
       "20         NaN  \n",
       "21         NaN  \n",
       "22         NaN  \n",
       "23         NaN  \n",
       "24         NaN  \n",
       "25         NaN  \n",
       "26         NaN  \n",
       "27         NaN  \n",
       "28         NaN  \n",
       "29         NaN  \n",
       "30         NaN  \n",
       "31         NaN  "
      ]
     },
     "execution_count": 83,
     "metadata": {},
     "output_type": "execute_result"
    }
   ],
   "source": [
    "ft_imp"
   ]
  },
  {
   "cell_type": "code",
   "execution_count": 84,
   "id": "f475a573",
   "metadata": {},
   "outputs": [],
   "source": [
    "ft_imp.drop(columns=['Unnamed: 0', 'Unnamed: 3', 'Unnamed: 4', 'Unnamed: 5', 'Unnamed: 6'], inplace=True)"
   ]
  },
  {
   "cell_type": "code",
   "execution_count": 87,
   "id": "c30e13ef",
   "metadata": {},
   "outputs": [],
   "source": [
    "ft_imp.rename(columns={'Unnamed: 1': 'feature','feature': \"importance\" }, inplace=True)"
   ]
  },
  {
   "cell_type": "code",
   "execution_count": 89,
   "id": "ea4f8a66",
   "metadata": {},
   "outputs": [],
   "source": [
    "ft_imp = ft_imp.drop(0)"
   ]
  },
  {
   "cell_type": "code",
   "execution_count": 90,
   "id": "dd4d849e",
   "metadata": {},
   "outputs": [
    {
     "data": {
      "text/html": [
       "<div>\n",
       "<style scoped>\n",
       "    .dataframe tbody tr th:only-of-type {\n",
       "        vertical-align: middle;\n",
       "    }\n",
       "\n",
       "    .dataframe tbody tr th {\n",
       "        vertical-align: top;\n",
       "    }\n",
       "\n",
       "    .dataframe thead th {\n",
       "        text-align: right;\n",
       "    }\n",
       "</style>\n",
       "<table border=\"1\" class=\"dataframe\">\n",
       "  <thead>\n",
       "    <tr style=\"text-align: right;\">\n",
       "      <th></th>\n",
       "      <th>feature</th>\n",
       "      <th>importance</th>\n",
       "    </tr>\n",
       "  </thead>\n",
       "  <tbody>\n",
       "    <tr>\n",
       "      <th>1</th>\n",
       "      <td>advice</td>\n",
       "      <td>0.010646</td>\n",
       "    </tr>\n",
       "    <tr>\n",
       "      <th>2</th>\n",
       "      <td>please</td>\n",
       "      <td>0.009463</td>\n",
       "    </tr>\n",
       "    <tr>\n",
       "      <th>3</th>\n",
       "      <td>help</td>\n",
       "      <td>0.008762</td>\n",
       "    </tr>\n",
       "    <tr>\n",
       "      <th>4</th>\n",
       "      <td>just</td>\n",
       "      <td>0.007587</td>\n",
       "    </tr>\n",
       "    <tr>\n",
       "      <th>5</th>\n",
       "      <td>vent</td>\n",
       "      <td>0.006695</td>\n",
       "    </tr>\n",
       "    <tr>\n",
       "      <th>6</th>\n",
       "      <td>any</td>\n",
       "      <td>0.006066</td>\n",
       "    </tr>\n",
       "    <tr>\n",
       "      <th>7</th>\n",
       "      <td>and</td>\n",
       "      <td>0.005938</td>\n",
       "    </tr>\n",
       "    <tr>\n",
       "      <th>8</th>\n",
       "      <td>do</td>\n",
       "      <td>0.005934</td>\n",
       "    </tr>\n",
       "    <tr>\n",
       "      <th>9</th>\n",
       "      <td>to</td>\n",
       "      <td>0.005821</td>\n",
       "    </tr>\n",
       "    <tr>\n",
       "      <th>10</th>\n",
       "      <td>it</td>\n",
       "      <td>0.005552</td>\n",
       "    </tr>\n",
       "    <tr>\n",
       "      <th>11</th>\n",
       "      <td>what</td>\n",
       "      <td>0.005477</td>\n",
       "    </tr>\n",
       "    <tr>\n",
       "      <th>12</th>\n",
       "      <td>me</td>\n",
       "      <td>0.005138</td>\n",
       "    </tr>\n",
       "    <tr>\n",
       "      <th>13</th>\n",
       "      <td>people</td>\n",
       "      <td>0.005099</td>\n",
       "    </tr>\n",
       "    <tr>\n",
       "      <th>14</th>\n",
       "      <td>fucking</td>\n",
       "      <td>0.005027</td>\n",
       "    </tr>\n",
       "    <tr>\n",
       "      <th>15</th>\n",
       "      <td>my</td>\n",
       "      <td>0.005</td>\n",
       "    </tr>\n",
       "    <tr>\n",
       "      <th>16</th>\n",
       "      <td>the</td>\n",
       "      <td>0.004734</td>\n",
       "    </tr>\n",
       "    <tr>\n",
       "      <th>17</th>\n",
       "      <td>that</td>\n",
       "      <td>0.004509</td>\n",
       "    </tr>\n",
       "    <tr>\n",
       "      <th>18</th>\n",
       "      <td>so</td>\n",
       "      <td>0.00443</td>\n",
       "    </tr>\n",
       "    <tr>\n",
       "      <th>19</th>\n",
       "      <td>this</td>\n",
       "      <td>0.004389</td>\n",
       "    </tr>\n",
       "    <tr>\n",
       "      <th>20</th>\n",
       "      <td>like</td>\n",
       "      <td>0.004356</td>\n",
       "    </tr>\n",
       "    <tr>\n",
       "      <th>21</th>\n",
       "      <td>of</td>\n",
       "      <td>0.004351</td>\n",
       "    </tr>\n",
       "    <tr>\n",
       "      <th>22</th>\n",
       "      <td>but</td>\n",
       "      <td>0.004288</td>\n",
       "    </tr>\n",
       "    <tr>\n",
       "      <th>23</th>\n",
       "      <td>feel</td>\n",
       "      <td>0.004219</td>\n",
       "    </tr>\n",
       "    <tr>\n",
       "      <th>24</th>\n",
       "      <td>have</td>\n",
       "      <td>0.004196</td>\n",
       "    </tr>\n",
       "    <tr>\n",
       "      <th>25</th>\n",
       "      <td>be</td>\n",
       "      <td>0.00413</td>\n",
       "    </tr>\n",
       "    <tr>\n",
       "      <th>26</th>\n",
       "      <td>need</td>\n",
       "      <td>0.004127</td>\n",
       "    </tr>\n",
       "    <tr>\n",
       "      <th>27</th>\n",
       "      <td>with</td>\n",
       "      <td>0.004082</td>\n",
       "    </tr>\n",
       "    <tr>\n",
       "      <th>28</th>\n",
       "      <td>in</td>\n",
       "      <td>0.004028</td>\n",
       "    </tr>\n",
       "    <tr>\n",
       "      <th>29</th>\n",
       "      <td>is</td>\n",
       "      <td>0.004015</td>\n",
       "    </tr>\n",
       "    <tr>\n",
       "      <th>30</th>\n",
       "      <td>been</td>\n",
       "      <td>0.00393</td>\n",
       "    </tr>\n",
       "    <tr>\n",
       "      <th>31</th>\n",
       "      <td>all</td>\n",
       "      <td>0.003891</td>\n",
       "    </tr>\n",
       "  </tbody>\n",
       "</table>\n",
       "</div>"
      ],
      "text/plain": [
       "    feature importance\n",
       "1    advice   0.010646\n",
       "2    please   0.009463\n",
       "3      help   0.008762\n",
       "4      just   0.007587\n",
       "5      vent   0.006695\n",
       "6       any   0.006066\n",
       "7       and   0.005938\n",
       "8        do   0.005934\n",
       "9        to   0.005821\n",
       "10       it   0.005552\n",
       "11     what   0.005477\n",
       "12       me   0.005138\n",
       "13   people   0.005099\n",
       "14  fucking   0.005027\n",
       "15       my      0.005\n",
       "16      the   0.004734\n",
       "17     that   0.004509\n",
       "18       so    0.00443\n",
       "19     this   0.004389\n",
       "20     like   0.004356\n",
       "21       of   0.004351\n",
       "22      but   0.004288\n",
       "23     feel   0.004219\n",
       "24     have   0.004196\n",
       "25       be    0.00413\n",
       "26     need   0.004127\n",
       "27     with   0.004082\n",
       "28       in   0.004028\n",
       "29       is   0.004015\n",
       "30     been    0.00393\n",
       "31      all   0.003891"
      ]
     },
     "execution_count": 90,
     "metadata": {},
     "output_type": "execute_result"
    }
   ],
   "source": [
    "ft_imp"
   ]
  },
  {
   "cell_type": "code",
   "execution_count": 91,
   "id": "0f2f6884",
   "metadata": {},
   "outputs": [],
   "source": [
    "top_ft = ft_imp[:30]"
   ]
  },
  {
   "cell_type": "code",
   "execution_count": 92,
   "id": "10c739ab",
   "metadata": {},
   "outputs": [
    {
     "data": {
      "text/html": [
       "<div>\n",
       "<style scoped>\n",
       "    .dataframe tbody tr th:only-of-type {\n",
       "        vertical-align: middle;\n",
       "    }\n",
       "\n",
       "    .dataframe tbody tr th {\n",
       "        vertical-align: top;\n",
       "    }\n",
       "\n",
       "    .dataframe thead th {\n",
       "        text-align: right;\n",
       "    }\n",
       "</style>\n",
       "<table border=\"1\" class=\"dataframe\">\n",
       "  <thead>\n",
       "    <tr style=\"text-align: right;\">\n",
       "      <th></th>\n",
       "      <th>feature</th>\n",
       "      <th>importance</th>\n",
       "    </tr>\n",
       "  </thead>\n",
       "  <tbody>\n",
       "    <tr>\n",
       "      <th>1</th>\n",
       "      <td>advice</td>\n",
       "      <td>0.010646</td>\n",
       "    </tr>\n",
       "    <tr>\n",
       "      <th>2</th>\n",
       "      <td>please</td>\n",
       "      <td>0.009463</td>\n",
       "    </tr>\n",
       "    <tr>\n",
       "      <th>3</th>\n",
       "      <td>help</td>\n",
       "      <td>0.008762</td>\n",
       "    </tr>\n",
       "    <tr>\n",
       "      <th>4</th>\n",
       "      <td>just</td>\n",
       "      <td>0.007587</td>\n",
       "    </tr>\n",
       "    <tr>\n",
       "      <th>5</th>\n",
       "      <td>vent</td>\n",
       "      <td>0.006695</td>\n",
       "    </tr>\n",
       "    <tr>\n",
       "      <th>6</th>\n",
       "      <td>any</td>\n",
       "      <td>0.006066</td>\n",
       "    </tr>\n",
       "    <tr>\n",
       "      <th>7</th>\n",
       "      <td>and</td>\n",
       "      <td>0.005938</td>\n",
       "    </tr>\n",
       "    <tr>\n",
       "      <th>8</th>\n",
       "      <td>do</td>\n",
       "      <td>0.005934</td>\n",
       "    </tr>\n",
       "    <tr>\n",
       "      <th>9</th>\n",
       "      <td>to</td>\n",
       "      <td>0.005821</td>\n",
       "    </tr>\n",
       "    <tr>\n",
       "      <th>10</th>\n",
       "      <td>it</td>\n",
       "      <td>0.005552</td>\n",
       "    </tr>\n",
       "    <tr>\n",
       "      <th>11</th>\n",
       "      <td>what</td>\n",
       "      <td>0.005477</td>\n",
       "    </tr>\n",
       "    <tr>\n",
       "      <th>12</th>\n",
       "      <td>me</td>\n",
       "      <td>0.005138</td>\n",
       "    </tr>\n",
       "    <tr>\n",
       "      <th>13</th>\n",
       "      <td>people</td>\n",
       "      <td>0.005099</td>\n",
       "    </tr>\n",
       "    <tr>\n",
       "      <th>14</th>\n",
       "      <td>fucking</td>\n",
       "      <td>0.005027</td>\n",
       "    </tr>\n",
       "    <tr>\n",
       "      <th>15</th>\n",
       "      <td>my</td>\n",
       "      <td>0.005</td>\n",
       "    </tr>\n",
       "    <tr>\n",
       "      <th>16</th>\n",
       "      <td>the</td>\n",
       "      <td>0.004734</td>\n",
       "    </tr>\n",
       "    <tr>\n",
       "      <th>17</th>\n",
       "      <td>that</td>\n",
       "      <td>0.004509</td>\n",
       "    </tr>\n",
       "    <tr>\n",
       "      <th>18</th>\n",
       "      <td>so</td>\n",
       "      <td>0.00443</td>\n",
       "    </tr>\n",
       "    <tr>\n",
       "      <th>19</th>\n",
       "      <td>this</td>\n",
       "      <td>0.004389</td>\n",
       "    </tr>\n",
       "    <tr>\n",
       "      <th>20</th>\n",
       "      <td>like</td>\n",
       "      <td>0.004356</td>\n",
       "    </tr>\n",
       "    <tr>\n",
       "      <th>21</th>\n",
       "      <td>of</td>\n",
       "      <td>0.004351</td>\n",
       "    </tr>\n",
       "    <tr>\n",
       "      <th>22</th>\n",
       "      <td>but</td>\n",
       "      <td>0.004288</td>\n",
       "    </tr>\n",
       "    <tr>\n",
       "      <th>23</th>\n",
       "      <td>feel</td>\n",
       "      <td>0.004219</td>\n",
       "    </tr>\n",
       "    <tr>\n",
       "      <th>24</th>\n",
       "      <td>have</td>\n",
       "      <td>0.004196</td>\n",
       "    </tr>\n",
       "    <tr>\n",
       "      <th>25</th>\n",
       "      <td>be</td>\n",
       "      <td>0.00413</td>\n",
       "    </tr>\n",
       "    <tr>\n",
       "      <th>26</th>\n",
       "      <td>need</td>\n",
       "      <td>0.004127</td>\n",
       "    </tr>\n",
       "    <tr>\n",
       "      <th>27</th>\n",
       "      <td>with</td>\n",
       "      <td>0.004082</td>\n",
       "    </tr>\n",
       "    <tr>\n",
       "      <th>28</th>\n",
       "      <td>in</td>\n",
       "      <td>0.004028</td>\n",
       "    </tr>\n",
       "    <tr>\n",
       "      <th>29</th>\n",
       "      <td>is</td>\n",
       "      <td>0.004015</td>\n",
       "    </tr>\n",
       "    <tr>\n",
       "      <th>30</th>\n",
       "      <td>been</td>\n",
       "      <td>0.00393</td>\n",
       "    </tr>\n",
       "  </tbody>\n",
       "</table>\n",
       "</div>"
      ],
      "text/plain": [
       "    feature importance\n",
       "1    advice   0.010646\n",
       "2    please   0.009463\n",
       "3      help   0.008762\n",
       "4      just   0.007587\n",
       "5      vent   0.006695\n",
       "6       any   0.006066\n",
       "7       and   0.005938\n",
       "8        do   0.005934\n",
       "9        to   0.005821\n",
       "10       it   0.005552\n",
       "11     what   0.005477\n",
       "12       me   0.005138\n",
       "13   people   0.005099\n",
       "14  fucking   0.005027\n",
       "15       my      0.005\n",
       "16      the   0.004734\n",
       "17     that   0.004509\n",
       "18       so    0.00443\n",
       "19     this   0.004389\n",
       "20     like   0.004356\n",
       "21       of   0.004351\n",
       "22      but   0.004288\n",
       "23     feel   0.004219\n",
       "24     have   0.004196\n",
       "25       be    0.00413\n",
       "26     need   0.004127\n",
       "27     with   0.004082\n",
       "28       in   0.004028\n",
       "29       is   0.004015\n",
       "30     been    0.00393"
      ]
     },
     "execution_count": 92,
     "metadata": {},
     "output_type": "execute_result"
    }
   ],
   "source": [
    "top_ft"
   ]
  },
  {
   "cell_type": "code",
   "execution_count": 120,
   "id": "65efcf1a",
   "metadata": {},
   "outputs": [
    {
     "ename": "KeyError",
     "evalue": "'any'",
     "output_type": "error",
     "traceback": [
      "\u001b[0;31m---------------------------------------------------------------------------\u001b[0m",
      "\u001b[0;31mKeyError\u001b[0m                                  Traceback (most recent call last)",
      "Input \u001b[0;32mIn [120]\u001b[0m, in \u001b[0;36m<cell line: 1>\u001b[0;34m()\u001b[0m\n\u001b[0;32m----> 1\u001b[0m \u001b[43mns_dict\u001b[49m\u001b[43m[\u001b[49m\u001b[38;5;124;43m'\u001b[39;49m\u001b[38;5;124;43many\u001b[39;49m\u001b[38;5;124;43m'\u001b[39;49m\u001b[43m]\u001b[49m\n",
      "\u001b[0;31mKeyError\u001b[0m: 'any'"
     ]
    }
   ],
   "source": [
    "ns_dict['any']"
   ]
  },
  {
   "cell_type": "code",
   "execution_count": 124,
   "id": "65d6ebb8",
   "metadata": {},
   "outputs": [],
   "source": [
    "vent_num = []\n",
    "ns_num = [] \n",
    "for word in top_ft[\"feature\"]:\n",
    "    ns_num.append(ns_dict_body[word])\n",
    "    vent_num.append(vent_dict_body[word])"
   ]
  },
  {
   "cell_type": "code",
   "execution_count": 129,
   "id": "3618786f",
   "metadata": {},
   "outputs": [],
   "source": [
    "ft_imp = ft_imp.drop(30)"
   ]
  },
  {
   "cell_type": "code",
   "execution_count": 130,
   "id": "c5555e3f",
   "metadata": {},
   "outputs": [
    {
     "data": {
      "text/plain": [
       "30"
      ]
     },
     "execution_count": 130,
     "metadata": {},
     "output_type": "execute_result"
    }
   ],
   "source": [
    "len(vent_num)"
   ]
  },
  {
   "cell_type": "code",
   "execution_count": 134,
   "id": "16d8fcd9",
   "metadata": {},
   "outputs": [],
   "source": [
    "ft_imp[\"count in vent\"]  = vent_num"
   ]
  },
  {
   "cell_type": "code",
   "execution_count": 135,
   "id": "e39aca4b",
   "metadata": {},
   "outputs": [],
   "source": [
    "ft_imp[\"count in ns\"]  = ns_num"
   ]
  },
  {
   "cell_type": "code",
   "execution_count": 138,
   "id": "d82bf7c7",
   "metadata": {},
   "outputs": [],
   "source": [
    "ft_imp = ft_imp[:15]"
   ]
  },
  {
   "cell_type": "code",
   "execution_count": 141,
   "id": "f2129085",
   "metadata": {},
   "outputs": [
    {
     "data": {
      "image/png": "[encoded data removed]",
      "text/plain": [
       "<Figure size 720x432 with 1 Axes>"
      ]
     },
     "metadata": {
      "needs_background": "light"
     },
     "output_type": "display_data"
    }
   ],
   "source": [
    "# Sample data\n",
    "features = list(ft_imp[\"feature\"])\n",
    "ns = list(ft_imp[\"count in ns\"])\n",
    "vent = list(ft_imp[\"count in vent\"])\n",
    "features = features[::-1]\n",
    "ns = ns[::-1]\n",
    "vent = vent[::-1]\n",
    "plt.figure(figsize=(10, 6))\n",
    "# Plotting the horizontal dumbbell plot for values1 (orange)\n",
    "plt.scatter(vent, features, color='orange', label='Venting')\n",
    "\n",
    "# Plotting the horizontal dumbbell plot for values2 (blue)\n",
    "plt.scatter(ns, features, color='blue', label='Need Support')\n",
    "\n",
    "# Plotting lines between each blue and orange dot for each category\n",
    "for i, ft in enumerate(features):\n",
    "    plt.plot([vent[i], ns[i]], [ft, ft], color='grey', linestyle='-')\n",
    "\n",
    "# Adding labels and title\n",
    "plt.xlabel('Count of Word')\n",
    "plt.ylabel('Features')\n",
    "plt.title('Features of Importance Across Support Preferences')\n",
    "\n",
    "\n",
    "# Adding legend\n",
    "plt.legend()\n",
    "\n",
    "# Display plot\n",
    "plt.grid(True)\n",
    "plt.show()"
   ]
  },
  {
   "cell_type": "code",
   "execution_count": 144,
   "id": "d912b37d",
   "metadata": {},
   "outputs": [
    {
     "data": {
      "image/png": "[encoded data removed]",
      "text/plain": [
       "<Figure size 720x432 with 1 Axes>"
      ]
     },
     "metadata": {
      "needs_background": "light"
     },
     "output_type": "display_data"
    }
   ],
   "source": [
    "ft_imp = top_ft[:17]\n",
    "ft_imp = ft_imp.drop(7)\n",
    "ft_imp = ft_imp.drop(9)\n",
    "vent_num = []\n",
    "ns_num = [] \n",
    "for word in ft_imp[\"feature\"]:\n",
    "    ns_num.append(ns_dict_body[word])\n",
    "    vent_num.append(vent_dict_body[word])\n",
    "ft_imp[\"count in vent\"]  = vent_num\n",
    "ft_imp[\"count in ns\"]  = ns_num\n",
    "\n",
    "# Sample data\n",
    "features = list(ft_imp[\"feature\"])\n",
    "ns = list(ft_imp[\"count in ns\"])\n",
    "vent = list(ft_imp[\"count in vent\"])\n",
    "features = features[::-1]\n",
    "ns = ns[::-1]\n",
    "vent = vent[::-1]\n",
    "plt.figure(figsize=(10, 6))\n",
    "# Plotting the horizontal dumbbell plot for values1 (orange)\n",
    "plt.scatter(vent, features, color='orange', label='Venting')\n",
    "\n",
    "# Plotting the horizontal dumbbell plot for values2 (blue)\n",
    "plt.scatter(ns, features, color='blue', label='Need Support')\n",
    "\n",
    "# Plotting lines between each blue and orange dot for each category\n",
    "for i, ft in enumerate(features):\n",
    "    plt.plot([vent[i], ns[i]], [ft, ft], color='grey', linestyle='-')\n",
    "\n",
    "# Adding labels and title\n",
    "plt.xlabel('Count of Word')\n",
    "plt.ylabel('Features')\n",
    "plt.title('Features of Importance Across Support Preferences')\n",
    "\n",
    "\n",
    "# Adding legend\n",
    "plt.legend()\n",
    "\n",
    "# Display plot\n",
    "plt.grid(True)\n",
    "plt.show()"
   ]
  },
  {
   "cell_type": "code",
   "execution_count": null,
   "id": "1f8ed01d",
   "metadata": {},
   "outputs": [],
   "source": []
  }
 ],
 "metadata": {
  "kernelspec": {
   "display_name": "Python 3 (ipykernel)",
   "language": "python",
   "name": "python3"
  },
  "language_info": {
   "codemirror_mode": {
    "name": "ipython",
    "version": 3
   },
   "file_extension": ".py",
   "mimetype": "text/x-python",
   "name": "python",
   "nbconvert_exporter": "python",
   "pygments_lexer": "ipython3",
   "version": "3.9.18"
  }
 },
 "nbformat": 4,
 "nbformat_minor": 5
}
